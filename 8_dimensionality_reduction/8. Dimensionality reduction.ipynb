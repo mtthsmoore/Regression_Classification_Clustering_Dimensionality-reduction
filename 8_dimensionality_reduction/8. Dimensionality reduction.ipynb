{
 "cells": [
  {
   "cell_type": "markdown",
   "metadata": {},
   "source": [
    "# 8. Dimensionality reduction"
   ]
  },
  {
   "cell_type": "code",
   "execution_count": 2,
   "metadata": {
    "collapsed": false
   },
   "outputs": [
    {
     "data": {
      "text/html": [
       "<link href='http://fonts.googleapis.com/css?family=Alegreya+Sans:100,300,400,500,700,800,900,100italic,300italic,400italic,500italic,700italic,800italic,900italic' rel='stylesheet' type='text/css'>\n",
       "<link href='http://fonts.googleapis.com/css?family=Arvo:400,700,400italic' rel='stylesheet' type='text/css'>\n",
       "<link href='http://fonts.googleapis.com/css?family=PT+Mono' rel='stylesheet' type='text/css'>\n",
       "<link href='http://fonts.googleapis.com/css?family=Shadows+Into+Light' rel='stylesheet' type='text/css'>\n",
       "<link href='http://fonts.googleapis.com/css?family=Philosopher:400,700,400italic,700italic' rel='stylesheet' type='text/css'>\n",
       "<link href='http://fonts.googleapis.com/css?family=Open+Sans' rel='stylesheet' type='text/css'>\n",
       "\n",
       "<style>\n",
       "\n",
       "@font-face {\n",
       "    font-family: \"Computer Modern\";\n",
       "    src: url('http://mirrors.ctan.org/fonts/cm-unicode/fonts/otf/cmunss.otf');\n",
       "}\n",
       "\n",
       "\n",
       "#notebook_panel { /* main background */\n",
       "    background: #888;\n",
       "    color: #f6f6f6;\n",
       "}\n",
       "\n",
       "div.cell { /* set cell width to about 80 chars */\n",
       "}\n",
       "\n",
       "div #notebook { /* centre the content */\n",
       "    background: #fff; /* white background for content */\n",
       "    margin: auto;\n",
       "}\n",
       "\n",
       "#notebook li { /* More space between bullet points */\n",
       "margin-top:0.8em;\n",
       "}\n",
       "\n",
       "/* draw border around running cells */\n",
       "div.cell.border-box-sizing.code_cell.running {\n",
       "    border: 3px solid #111;\n",
       "}\n",
       "\n",
       "/* Put a solid color box around each cell and its output, visually linking them together */\n",
       "div.cell.code_cell {\n",
       "    /*background-color: rgba(171,165,131,0.3); /*\n",
       "    border-radius: 10px; /* rounded borders */\n",
       "    padding: 1em;\n",
       "    /*margin-top: 1em;*/\n",
       "}\n",
       "\n",
       "div.text_cell_render{\n",
       "    font-family: 'Open Sans', Helvetica;\n",
       "    line-height: 140%;\n",
       "    font-size: 105%;\n",
       "    /*margin-top:15px;*/\n",
       "    margin-bottom:8px;\n",
       "    text-align:justify;\n",
       "}\n",
       "\n",
       "/* Formatting for header cells */\n",
       ".text_cell_render h1 {\n",
       "    font-family: 'Open Sans',sans-serif;\n",
       "    font-weight: 100;\n",
       "    font-size: 30pt;\n",
       "    line-height: 100%;\n",
       "    display: block;\n",
       "}\n",
       "\n",
       ".text_cell_render h2 {\n",
       "    font-family: 'Philosopher', serif;\n",
       "    font-weight: 700;\n",
       "    font-size: 24pt;\n",
       "    line-height: 100%;\n",
       "    color: rgb(171,165,131);\n",
       "    margin-bottom: 0.1em;\n",
       "    margin-top: 0.1em;\n",
       "    display: block;\n",
       "}    \n",
       "\n",
       ".text_cell_render h3 {\n",
       "    font-family: 'Philosopher', serif;\n",
       "    margin-top:12px;\n",
       "    margin-bottom: 3px;\n",
       "    font-style: italic;\n",
       "    color: rgb(95,92,72);\n",
       "}\n",
       "\n",
       ".text_cell_render h4 {\n",
       "    font-family: 'Philosopher', serif;\n",
       "}\n",
       "\n",
       ".text_cell_render h5 {\n",
       "    font-family: 'Alegreya Sans', sans-serif;\n",
       "    font-weight: 300;\n",
       "    font-size: 16pt;\n",
       "    color: grey;\n",
       "    font-style: italic;\n",
       "    margin-bottom: .1em;\n",
       "    margin-top: 0.1em;\n",
       "    display: block;\n",
       "}\n",
       "\n",
       ".text_cell_render h6 {\n",
       "    font-family: 'PT Mono', sans-serif;\n",
       "    font-weight: 300;\n",
       "    font-size: 10pt;\n",
       "    color: grey;\n",
       "    margin-bottom: 1px;\n",
       "    margin-top: 1px;\n",
       "}\n",
       "\n",
       ".CodeMirror{\n",
       "        font-family: \"PT Mono\";\n",
       "        font-size: 100%;\n",
       "}\n",
       "\n",
       ".output_area {\n",
       "\tmargin-top:20px;\n",
       "}\n",
       "\n",
       ".output_stderr {\n",
       "\tdisplay:none;\n",
       "\t}\n",
       "\n",
       ".output_subarea {\n",
       "\tdisplay: block;\n",
       "    margin: 0 auto;\n",
       "}\n",
       "\n",
       ".output_png img {\n",
       "    display: block;\n",
       "    margin-left: auto;\n",
       "    margin-right: auto;\n",
       "}\n",
       "\n",
       ".prompt {\n",
       "\tvisible: false;\n",
       "\t}\n",
       "\n",
       "</style>\n",
       "\n"
      ],
      "text/plain": [
       "<IPython.core.display.HTML object>"
      ]
     },
     "execution_count": 2,
     "metadata": {},
     "output_type": "execute_result"
    }
   ],
   "source": [
    "%matplotlib inline\n",
    "import warnings;warnings.filterwarnings('ignore');import matplotlib.pyplot as plt;import numpy as np;import pandas as pd;import seaborn as sns;sns.set_context(\"notebook\", font_scale=1.4);sns.set_style(\"whitegrid\");import imp;compomics_import = imp.load_source('compomics_import', '../compomics_import.py');from IPython.core.display import HTML;css_file = '../my.css';HTML(open(css_file, \"r\").read())"
   ]
  },
  {
   "cell_type": "markdown",
   "metadata": {},
   "source": [
    "In many cases it can be useful to **reduce the number of features (dimensions)** in a data set before building a classification or regression model. Removing noisy features or decorrelating correlated features can prevent data overfitting. In addition it improves training times and decreases computer memory requirements. Finally when reducing the number of features to less than four we can actually take a look the data in for instance a scatterplot. \n",
    "\n",
    "In these final two chapters we take a look at some popular **dimensionality reduction** algorithms which can be roughly divided into two types: **feature extraction** and **feature selection**. The key idea for all of these approaches however is the same: while reducing the number of features try to preserve as much information as possible. For feature extraction we will discuss **Principle Components Analysis (PCA)** and **Multidimensional Scaling (MDS)**. These approaches compute a new set of features that does not include any of the original features. This is typically achieved by mapping the original data into a lower-dimensional space using some kind of transformation. In contrast feature selection reduces the number of features by selecting only those features that are relevant for the classification or regression task. \n",
    "\n",
    "PCA decomposes a data set in its principal components (PC) through a **linear** transformation. PC's (also called eigenvectors) are **orthogonal** to each other and point in the direction of **largest variance**. So what does this mean? Let's say we have a data set with two features and we want to reduce this data to one feature."
   ]
  },
  {
   "cell_type": "code",
   "execution_count": 3,
   "metadata": {
    "collapsed": false
   },
   "outputs": [
    {
     "data": {
      "image/png": "[encoded data removed]",
      "text/plain": [
       "<matplotlib.figure.Figure at 0x7f63ef36e390>"
      ]
     },
     "metadata": {},
     "output_type": "display_data"
    }
   ],
   "source": [
    "dataset = pd.read_csv('pca.csv',sep=',')\n",
    "sns.lmplot(x=\"x1\", y=\"x2\", data=dataset, fit_reg=False, size=5, scatter_kws={\"s\": 80})\n",
    "plt.show()"
   ]
  },
  {
   "cell_type": "markdown",
   "metadata": {},
   "source": [
    "To apply PCA the data needs to be **centered** first. In this case it was centered already. PCA will search for the direction that preserves the most of the original variance. This is vector PC1 in the plot below."
   ]
  },
  {
   "cell_type": "code",
   "execution_count": 4,
   "metadata": {
    "collapsed": false
   },
   "outputs": [
    {
     "data": {
      "image/png": "[encoded data removed]",
      "text/plain": [
       "<matplotlib.figure.Figure at 0x7f63ee151890>"
      ]
     },
     "metadata": {},
     "output_type": "display_data"
    }
   ],
   "source": [
    "w,v=np.linalg.eig(np.cov(dataset.values.T)) #finds the eigenvalues and principle components (eigenvectors)\n",
    "\n",
    "plt.figure(figsize=(6,6))\n",
    "compomics_import.plot_eigenvectors(dataset,w,v)\n",
    "plt.show()"
   ]
  },
  {
   "cell_type": "markdown",
   "metadata": {},
   "source": [
    "The second principle component PC2 is orthogonal to PC1. These two new dimensions PC1 and PC2 now form a new space for the data points in which PC1 preserves (or explains) most of the variance in the data set. In general for a $n$-dimensional data set PCA will compute $n$ PCs such that PC1 explains most of the variance in the data set, PC2 explains most of the variance while being orthogonal to PC1, PC3 explains most of the variance while being orthogonal to PC1 and PC2, etc.\n",
    "\n",
    "Each $i$-th PC has an **eigenvalue** $w_i$ that represents the variance (which was maximized) observed for the corresponding PC."
   ]
  },
  {
   "cell_type": "code",
   "execution_count": 5,
   "metadata": {
    "collapsed": false
   },
   "outputs": [
    {
     "name": "stdout",
     "output_type": "stream",
     "text": [
      "Eigenvalue for PC1 (w_0): 38.81\n",
      "Eigenvalue for PC2 (w_1): 3.48\n"
     ]
    }
   ],
   "source": [
    "print \"Eigenvalue for PC1 (w_0): %.2f\" % (w[0])\n",
    "print \"Eigenvalue for PC2 (w_1): %.2f\" % (w[1])"
   ]
  },
  {
   "cell_type": "markdown",
   "metadata": {},
   "source": [
    "The amount of variance explained by each PC$i$ is given by\n",
    "\n",
    "$$\\frac{w_i}{\\sum_j w_j},$$\n",
    "\n",
    "where $j$ ranges over all PCs."
   ]
  },
  {
   "cell_type": "code",
   "execution_count": 6,
   "metadata": {
    "collapsed": false
   },
   "outputs": [
    {
     "name": "stdout",
     "output_type": "stream",
     "text": [
      "Variance explained by PC1: 91.775895\n",
      "Variance explained by PC2: 8.224105\n"
     ]
    }
   ],
   "source": [
    "var_explained=100*w/sum(w)\n",
    "print \"Variance explained by PC1: %f\" % var_explained[0]\n",
    "print \"Variance explained by PC2: %f\" % var_explained[1]"
   ]
  },
  {
   "cell_type": "markdown",
   "metadata": {},
   "source": [
    "The first principle component does indeed explain most variance in the original data set. The next step is to actually reduce the number of dimensions. If we would remove PC2 and project all data points to PC1 then we preserve 91.78% of the variance in the data set. If we remove PC1 and project all data points to PC2 we preserve only 8.22%. Clearly we want to project the original data set onto the top ranked PCs. For instance to visualize a $n$-dimensional data set we can project the data onto the first two or three PCs. \n",
    "\n",
    "\n",
    "Let's remove PC2 and project the data onto PC1. From the plot above we know that we can compute the data points for PC1 from the original features $x_1$ and $x_2$ as\n",
    "\n",
    "$$\\vec{v_1} =  0.85 \\vec{x_1} + 0.53 \\vec{x_2}.$$\n",
    "\n",
    "We now replaced the features $x_1$ and $x_2$ by the feature $v_1$. This one dimensional data set can be plotted as a histogram:"
   ]
  },
  {
   "cell_type": "code",
   "execution_count": 7,
   "metadata": {
    "collapsed": false
   },
   "outputs": [
    {
     "data": {
      "image/png": "[encoded data removed]",
      "text/plain": [
       "<matplotlib.figure.Figure at 0x7f63ef36e610>"
      ]
     },
     "metadata": {},
     "output_type": "display_data"
    }
   ],
   "source": [
    "plt.figure(figsize=(5,5))\n",
    "sns.distplot(v[0,0]*dataset['x1']+v[1,0]*dataset['x2'], color=\"b\")\n",
    "plt.show()"
   ]
  },
  {
   "cell_type": "markdown",
   "metadata": {},
   "source": [
    "The variance of this distribution is thus 38.81. To show how PCA is applied using the PCA module in scikit-learn we first create an artificial data set with 100 samples in two classes. There are 100 features of which 10 are informative:"
   ]
  },
  {
   "cell_type": "code",
   "execution_count": 8,
   "metadata": {
    "collapsed": false
   },
   "outputs": [],
   "source": [
    "import sklearn.datasets as datasets\n",
    "\n",
    "(dataset_big,targets) = datasets.make_classification(\n",
    "n_samples=100,\n",
    "n_features=100,\n",
    "n_classes=2,\n",
    "n_informative=10,\n",
    "n_redundant=0,\n",
    "n_repeated=0,\n",
    "class_sep=2,\n",
    "n_clusters_per_class=1,\n",
    "random_state=2,\n",
    ")"
   ]
  },
  {
   "cell_type": "markdown",
   "metadata": {},
   "source": [
    "Now we apply PCA and keep only the two top principle components. The data set is projected (or transformed) onto these two new dimensions and plotted:"
   ]
  },
  {
   "cell_type": "code",
   "execution_count": 9,
   "metadata": {
    "collapsed": false
   },
   "outputs": [
    {
     "data": {
      "image/png": "[encoded data removed]",
      "text/plain": [
       "<matplotlib.figure.Figure at 0x7f63e43a2a90>"
      ]
     },
     "metadata": {},
     "output_type": "display_data"
    }
   ],
   "source": [
    "from sklearn.decomposition import PCA\n",
    "\n",
    "pca = PCA(n_components=2)\n",
    "dataset_big_projected = pd.DataFrame(pca.fit(dataset_big).transform(dataset_big),columns=['PC1','PC2'])\n",
    "dataset_big_projected['label'] = targets\n",
    "\n",
    "sns.lmplot(x=\"PC1\", y=\"PC2\", data=dataset_big_projected, hue='label', markers=['+','o'],\n",
    "           fit_reg=False, size=5.5, scatter_kws={\"s\": 80})\n",
    "plt.show()"
   ]
  },
  {
   "cell_type": "markdown",
   "metadata": {},
   "source": [
    "The plots reveals the two classes (remember these were not known to the PCA algorithm) and also reveals possible outliers in both classes. We can look at the explained variance for each PC:"
   ]
  },
  {
   "cell_type": "code",
   "execution_count": 10,
   "metadata": {
    "collapsed": false
   },
   "outputs": [
    {
     "name": "stdout",
     "output_type": "stream",
     "text": [
      "Variance explained by PC1: 0.214116\n",
      "Variance explained by PC2: 0.056570\n"
     ]
    }
   ],
   "source": [
    "print \"Variance explained by PC1: %f\" % pca.explained_variance_ratio_[0]\n",
    "print \"Variance explained by PC2: %f\" % pca.explained_variance_ratio_[1]"
   ]
  },
  {
   "cell_type": "markdown",
   "metadata": {},
   "source": [
    "We observe how PC1 and PC2 together only explain about 27% of the original variance while still providing useful structural information about the 100-dimensional data set."
   ]
  },
  {
   "cell_type": "markdown",
   "metadata": {
    "collapsed": false
   },
   "source": [
    "MDS seeks a low-dimensional representation of the data in which the low-dimensional distances respect well the distances in the original high-dimensional space.\n",
    "\n",
    "In general, it is a technique used for analyzing similarity or dissimilarity data. The algorithm starts from **distance matrix** rather then from a data set with feature vectors. This distance matrix contains the distances (dissimilarity) between the objects in a data set (e.g. interaction frequencies of molecules). So we don't necessarily have to represent the objects in the data set as feature vectors."
   ]
  },
  {
   "cell_type": "markdown",
   "metadata": {},
   "source": [
    "Let $\\delta_{i,j}$ be the distance between object $i$ and object $j$ in the data set with $n$ objects. The distance matrix $\\Delta$ can the be written as\n",
    "\n",
    "\n",
    "\\begin{pmatrix}\n",
    "\\delta_{1,1} & \\delta_{1,2} & \\cdots & \\delta_{1,n} \\\\\n",
    "\\delta_{2,1} & \\delta_{2,2} & \\cdots & \\delta_{2,n} \\\\\n",
    "\\vdots & \\vdots & & \\vdots \\\\\n",
    "\\delta_{n,1} & \\delta_{n,2} & \\cdots & \\delta_{n,n}\n",
    "\\end{pmatrix}\n",
    "\n",
    "\n",
    "The goal of MDS is, given $\\Delta$, to find $n$ vectors $x_1,\\ldots,x_n \\in \\mathbb{R}^N$ such that\n",
    "\n",
    "$$\\|x_i - x_j\\| \\approx \\delta_{i,j}$$ \n",
    "\n",
    "for all \n",
    "\n",
    "$$i,j\\in {1,\\dots,n},$$\n",
    "\n",
    "where $\\|\\cdot\\|$ is a vector norm. In classical MDS, this norm is the Euclidean distance, but it may be any metric or arbitrary distance function."
   ]
  },
  {
   "cell_type": "markdown",
   "metadata": {},
   "source": [
    "Let's look at a typical example in which we don't want (or can't) represent the objects in the data set as feature vectors. Imagine we have collected car GPS tracking data and used it to compute a distance matrix $\\Delta$ in which the distance between two US cities is estimated by the average time a car required to travel between the cities. \n",
    "\n",
    "In this case we will be reading a distance matrix:"
   ]
  },
  {
   "cell_type": "code",
   "execution_count": 11,
   "metadata": {
    "collapsed": false
   },
   "outputs": [
    {
     "data": {
      "text/html": [
       "<div>\n",
       "<table border=\"1\" class=\"dataframe\">\n",
       "  <thead>\n",
       "    <tr style=\"text-align: right;\">\n",
       "      <th></th>\n",
       "      <th>Atlanta</th>\n",
       "      <th>Chicago</th>\n",
       "      <th>Denver</th>\n",
       "      <th>Houston</th>\n",
       "      <th>LA</th>\n",
       "      <th>Miami</th>\n",
       "      <th>NYC</th>\n",
       "      <th>SF</th>\n",
       "      <th>Seattle</th>\n",
       "      <th>DC</th>\n",
       "    </tr>\n",
       "  </thead>\n",
       "  <tbody>\n",
       "    <tr>\n",
       "      <th>0</th>\n",
       "      <td>0.000</td>\n",
       "      <td>0.587</td>\n",
       "      <td>1.212</td>\n",
       "      <td>0.701</td>\n",
       "      <td>1.936</td>\n",
       "      <td>0.604</td>\n",
       "      <td>0.748</td>\n",
       "      <td>2.139</td>\n",
       "      <td>2.182</td>\n",
       "      <td>0.543</td>\n",
       "    </tr>\n",
       "    <tr>\n",
       "      <th>1</th>\n",
       "      <td>0.587</td>\n",
       "      <td>0.000</td>\n",
       "      <td>0.920</td>\n",
       "      <td>0.940</td>\n",
       "      <td>1.745</td>\n",
       "      <td>1.188</td>\n",
       "      <td>0.713</td>\n",
       "      <td>1.858</td>\n",
       "      <td>1.737</td>\n",
       "      <td>0.597</td>\n",
       "    </tr>\n",
       "    <tr>\n",
       "      <th>2</th>\n",
       "      <td>1.212</td>\n",
       "      <td>0.920</td>\n",
       "      <td>0.000</td>\n",
       "      <td>0.879</td>\n",
       "      <td>0.831</td>\n",
       "      <td>1.726</td>\n",
       "      <td>1.631</td>\n",
       "      <td>0.949</td>\n",
       "      <td>1.021</td>\n",
       "      <td>1.494</td>\n",
       "    </tr>\n",
       "    <tr>\n",
       "      <th>3</th>\n",
       "      <td>0.701</td>\n",
       "      <td>0.940</td>\n",
       "      <td>0.879</td>\n",
       "      <td>0.000</td>\n",
       "      <td>1.374</td>\n",
       "      <td>0.968</td>\n",
       "      <td>1.420</td>\n",
       "      <td>1.645</td>\n",
       "      <td>1.891</td>\n",
       "      <td>1.225</td>\n",
       "    </tr>\n",
       "    <tr>\n",
       "      <th>4</th>\n",
       "      <td>1.936</td>\n",
       "      <td>1.745</td>\n",
       "      <td>0.831</td>\n",
       "      <td>1.374</td>\n",
       "      <td>0.000</td>\n",
       "      <td>2.339</td>\n",
       "      <td>2.451</td>\n",
       "      <td>0.347</td>\n",
       "      <td>0.959</td>\n",
       "      <td>2.500</td>\n",
       "    </tr>\n",
       "    <tr>\n",
       "      <th>5</th>\n",
       "      <td>0.604</td>\n",
       "      <td>1.188</td>\n",
       "      <td>1.726</td>\n",
       "      <td>0.968</td>\n",
       "      <td>2.339</td>\n",
       "      <td>0.000</td>\n",
       "      <td>1.092</td>\n",
       "      <td>2.594</td>\n",
       "      <td>2.734</td>\n",
       "      <td>0.923</td>\n",
       "    </tr>\n",
       "    <tr>\n",
       "      <th>6</th>\n",
       "      <td>0.748</td>\n",
       "      <td>0.713</td>\n",
       "      <td>1.631</td>\n",
       "      <td>1.420</td>\n",
       "      <td>2.451</td>\n",
       "      <td>1.092</td>\n",
       "      <td>0.000</td>\n",
       "      <td>2.571</td>\n",
       "      <td>2.408</td>\n",
       "      <td>0.205</td>\n",
       "    </tr>\n",
       "    <tr>\n",
       "      <th>7</th>\n",
       "      <td>2.139</td>\n",
       "      <td>1.858</td>\n",
       "      <td>0.949</td>\n",
       "      <td>1.645</td>\n",
       "      <td>0.347</td>\n",
       "      <td>2.594</td>\n",
       "      <td>2.571</td>\n",
       "      <td>0.000</td>\n",
       "      <td>0.678</td>\n",
       "      <td>2.442</td>\n",
       "    </tr>\n",
       "    <tr>\n",
       "      <th>8</th>\n",
       "      <td>2.182</td>\n",
       "      <td>1.737</td>\n",
       "      <td>1.021</td>\n",
       "      <td>1.891</td>\n",
       "      <td>0.959</td>\n",
       "      <td>2.734</td>\n",
       "      <td>2.408</td>\n",
       "      <td>0.678</td>\n",
       "      <td>0.000</td>\n",
       "      <td>2.329</td>\n",
       "    </tr>\n",
       "    <tr>\n",
       "      <th>9</th>\n",
       "      <td>0.543</td>\n",
       "      <td>0.597</td>\n",
       "      <td>1.494</td>\n",
       "      <td>1.225</td>\n",
       "      <td>2.500</td>\n",
       "      <td>0.923</td>\n",
       "      <td>0.205</td>\n",
       "      <td>2.442</td>\n",
       "      <td>2.329</td>\n",
       "      <td>0.000</td>\n",
       "    </tr>\n",
       "  </tbody>\n",
       "</table>\n",
       "</div>"
      ],
      "text/plain": [
       "   Atlanta  Chicago  Denver  Houston     LA  Miami    NYC     SF  Seattle  \\\n",
       "0    0.000    0.587   1.212    0.701  1.936  0.604  0.748  2.139    2.182   \n",
       "1    0.587    0.000   0.920    0.940  1.745  1.188  0.713  1.858    1.737   \n",
       "2    1.212    0.920   0.000    0.879  0.831  1.726  1.631  0.949    1.021   \n",
       "3    0.701    0.940   0.879    0.000  1.374  0.968  1.420  1.645    1.891   \n",
       "4    1.936    1.745   0.831    1.374  0.000  2.339  2.451  0.347    0.959   \n",
       "5    0.604    1.188   1.726    0.968  2.339  0.000  1.092  2.594    2.734   \n",
       "6    0.748    0.713   1.631    1.420  2.451  1.092  0.000  2.571    2.408   \n",
       "7    2.139    1.858   0.949    1.645  0.347  2.594  2.571  0.000    0.678   \n",
       "8    2.182    1.737   1.021    1.891  0.959  2.734  2.408  0.678    0.000   \n",
       "9    0.543    0.597   1.494    1.225  2.500  0.923  0.205  2.442    2.329   \n",
       "\n",
       "      DC  \n",
       "0  0.543  \n",
       "1  0.597  \n",
       "2  1.494  \n",
       "3  1.225  \n",
       "4  2.500  \n",
       "5  0.923  \n",
       "6  0.205  \n",
       "7  2.442  \n",
       "8  2.329  \n",
       "9  0.000  "
      ]
     },
     "execution_count": 11,
     "metadata": {},
     "output_type": "execute_result"
    }
   ],
   "source": [
    "sim_matrix_cities = pd.read_csv('cities_us.csv',sep=' ')\n",
    "sim_matrix_cities"
   ]
  },
  {
   "cell_type": "markdown",
   "metadata": {},
   "source": [
    "MDS will plot these distances on a 2D map such that cities that require longer average driving times are positioned further away in the map. We should thus be able to reconstruct the US map:"
   ]
  },
  {
   "cell_type": "code",
   "execution_count": 12,
   "metadata": {
    "collapsed": false
   },
   "outputs": [
    {
     "data": {
      "image/png": "[encoded data removed]",
      "text/plain": [
       "<matplotlib.figure.Figure at 0x7f63ef36e910>"
      ]
     },
     "metadata": {},
     "output_type": "display_data"
    }
   ],
   "source": [
    "from sklearn import manifold\n",
    "\n",
    "mds = manifold.MDS(n_components=2, max_iter=3000, eps=1e-9, random_state=2,\n",
    "                   dissimilarity=\"precomputed\", n_jobs=1)\n",
    "mds_coordinates = mds.fit(sim_matrix_cities).embedding_\n",
    "\n",
    "compomics_import.plot_scatter_annotated(pd.DataFrame(mds_coordinates),sim_matrix_cities.columns.values)\n",
    "plt.show()"
   ]
  },
  {
   "cell_type": "markdown",
   "metadata": {},
   "source": [
    "We can see that the relative distances between the cities in the map are indeed correct. However, the map is rotated compared to the real map of the US. This is because the algorithm that computes the MDS coordinates starts with a random initialization of its model parameters, so every time you run MDS you well get a different rotation of the data. The MDS coordinates thus have no meaning other than representing distances between objects."
   ]
  },
  {
   "cell_type": "markdown",
   "metadata": {},
   "source": [
    "<strong>Exercises</strong>\n",
    "\n",
    "- Load Breast Cancer Wisconsin data set and remove the label. Plot the first two principle components for the data sets. Plot the labels as the color of the data points."
   ]
  },
  {
   "cell_type": "code",
   "execution_count": null,
   "metadata": {
    "collapsed": false,
    "scrolled": false
   },
   "outputs": [],
   "source": []
  },
  {
   "cell_type": "markdown",
   "metadata": {},
   "source": [
    "- Let *KMeans* cluster the data set into 2 groups. Plot the data using the first two principle components (as in exercise 1) but this time use the cluster assignments to color the data points. "
   ]
  },
  {
   "cell_type": "code",
   "execution_count": null,
   "metadata": {
    "collapsed": false
   },
   "outputs": [],
   "source": []
  }
 ],
 "metadata": {
  "kernelspec": {
   "display_name": "Python 2",
   "language": "python",
   "name": "python2"
  },
  "language_info": {
   "codemirror_mode": {
    "name": "ipython",
    "version": 2
   },
   "file_extension": ".py",
   "mimetype": "text/x-python",
   "name": "python",
   "nbconvert_exporter": "python",
   "pygments_lexer": "ipython2",
   "version": "2.7.11"
  }
 },
 "nbformat": 4,
 "nbformat_minor": 0
}
