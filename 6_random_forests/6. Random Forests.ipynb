{
 "cells": [
  {
   "cell_type": "markdown",
   "metadata": {},
   "source": [
    "# 6. Random forests"
   ]
  },
  {
   "cell_type": "code",
   "execution_count": 1,
   "metadata": {
    "collapsed": false
   },
   "outputs": [
    {
     "data": {
      "text/html": [
       "<link href='http://fonts.googleapis.com/css?family=Alegreya+Sans:100,300,400,500,700,800,900,100italic,300italic,400italic,500italic,700italic,800italic,900italic' rel='stylesheet' type='text/css'>\n",
       "<link href='http://fonts.googleapis.com/css?family=Arvo:400,700,400italic' rel='stylesheet' type='text/css'>\n",
       "<link href='http://fonts.googleapis.com/css?family=PT+Mono' rel='stylesheet' type='text/css'>\n",
       "<link href='http://fonts.googleapis.com/css?family=Shadows+Into+Light' rel='stylesheet' type='text/css'>\n",
       "<link href='http://fonts.googleapis.com/css?family=Philosopher:400,700,400italic,700italic' rel='stylesheet' type='text/css'>\n",
       "<link href='http://fonts.googleapis.com/css?family=Open+Sans' rel='stylesheet' type='text/css'>\n",
       "\n",
       "<style>\n",
       "\n",
       "@font-face {\n",
       "    font-family: \"Computer Modern\";\n",
       "    src: url('http://mirrors.ctan.org/fonts/cm-unicode/fonts/otf/cmunss.otf');\n",
       "}\n",
       "\n",
       "\n",
       "#notebook_panel { /* main background */\n",
       "    background: #888;\n",
       "    color: #f6f6f6;\n",
       "}\n",
       "\n",
       "div.cell { /* set cell width to about 80 chars */\n",
       "}\n",
       "\n",
       "div #notebook { /* centre the content */\n",
       "    background: #fff; /* white background for content */\n",
       "    margin: auto;\n",
       "}\n",
       "\n",
       "#notebook li { /* More space between bullet points */\n",
       "margin-top:0.8em;\n",
       "}\n",
       "\n",
       "/* draw border around running cells */\n",
       "div.cell.border-box-sizing.code_cell.running {\n",
       "    border: 3px solid #111;\n",
       "}\n",
       "\n",
       "/* Put a solid color box around each cell and its output, visually linking them together */\n",
       "div.cell.code_cell {\n",
       "    /*background-color: rgba(171,165,131,0.3); /*\n",
       "    border-radius: 10px; /* rounded borders */\n",
       "    padding: 1em;\n",
       "    /*margin-top: 1em;*/\n",
       "}\n",
       "\n",
       "div.text_cell_render{\n",
       "    font-family: 'Open Sans', Helvetica;\n",
       "    line-height: 140%;\n",
       "    font-size: 105%;\n",
       "    /*margin-top:15px;*/\n",
       "    margin-bottom:8px;\n",
       "    text-align:justify;\n",
       "}\n",
       "\n",
       "/* Formatting for header cells */\n",
       ".text_cell_render h1 {\n",
       "    font-family: 'Open Sans',sans-serif;\n",
       "    font-weight: 100;\n",
       "    font-size: 30pt;\n",
       "    line-height: 100%;\n",
       "    display: block;\n",
       "}\n",
       "\n",
       ".text_cell_render h2 {\n",
       "    font-family: 'Philosopher', serif;\n",
       "    font-weight: 700;\n",
       "    font-size: 24pt;\n",
       "    line-height: 100%;\n",
       "    color: rgb(171,165,131);\n",
       "    margin-bottom: 0.1em;\n",
       "    margin-top: 0.1em;\n",
       "    display: block;\n",
       "}    \n",
       "\n",
       ".text_cell_render h3 {\n",
       "    font-family: 'Philosopher', serif;\n",
       "    margin-top:12px;\n",
       "    margin-bottom: 3px;\n",
       "    font-style: italic;\n",
       "    color: rgb(95,92,72);\n",
       "}\n",
       "\n",
       ".text_cell_render h4 {\n",
       "    font-family: 'Philosopher', serif;\n",
       "}\n",
       "\n",
       ".text_cell_render h5 {\n",
       "    font-family: 'Alegreya Sans', sans-serif;\n",
       "    font-weight: 300;\n",
       "    font-size: 16pt;\n",
       "    color: grey;\n",
       "    font-style: italic;\n",
       "    margin-bottom: .1em;\n",
       "    margin-top: 0.1em;\n",
       "    display: block;\n",
       "}\n",
       "\n",
       ".text_cell_render h6 {\n",
       "    font-family: 'PT Mono', sans-serif;\n",
       "    font-weight: 300;\n",
       "    font-size: 10pt;\n",
       "    color: grey;\n",
       "    margin-bottom: 1px;\n",
       "    margin-top: 1px;\n",
       "}\n",
       "\n",
       ".CodeMirror{\n",
       "        font-family: \"PT Mono\";\n",
       "        font-size: 100%;\n",
       "}\n",
       "\n",
       ".output_area {\n",
       "\tmargin-top:20px;\n",
       "}\n",
       "\n",
       ".output_stderr {\n",
       "\tdisplay:none;\n",
       "\t}\n",
       "\n",
       ".output_subarea {\n",
       "\tdisplay: block;\n",
       "    margin: 0 auto;\n",
       "}\n",
       "\n",
       ".output_png img {\n",
       "    display: block;\n",
       "    margin-left: auto;\n",
       "    margin-right: auto;\n",
       "}\n",
       "\n",
       ".prompt {\n",
       "\tvisible: false;\n",
       "\t}\n",
       "\n",
       "</style>\n",
       "\n"
      ],
      "text/plain": [
       "<IPython.core.display.HTML object>"
      ]
     },
     "execution_count": 1,
     "metadata": {},
     "output_type": "execute_result"
    }
   ],
   "source": [
    "%matplotlib inline\n",
    "import warnings;warnings.filterwarnings('ignore');import matplotlib.pyplot as plt;import numpy as np;import pandas as pd;import seaborn as sns;sns.set_context(\"notebook\", font_scale=1.4);sns.set_style(\"whitegrid\");import imp;compomics_import = imp.load_source('compomics_import', '../compomics_import.py');from IPython.core.display import HTML;css_file = '../my.css';HTML(open(css_file, \"r\").read())"
   ]
  },
  {
   "cell_type": "markdown",
   "metadata": {},
   "source": [
    "Another popular method for solving both classification and regression tasks in bioinformatics is the **random forest** algorithm. It is shown to compute very accurate prediction models for various types of data sets and typically outperforms other models on data sets with heterogeneous features, features that represent very different types of information such as the age of patient and the expression measurement of a certain gene in that patient. Finding dependencies between these types of features is easy for a random forest as it employs decision trees to construct the decision boundary where each tree tests each feature individually. To explain this we need to first explain the decision tree model.  \n",
    "\n",
    "A **decision tree** is a flowchart-like structure in which each **internal node** represents a test on a feature, each **branch** represents a possible outcome of the test and each **leaf node** represents a target. The paths from root to leaf represent prediction rules. Decision trees can be used to solve both classification and regression tasks, but here we will restrict the description to classification trees. Here is an example of a decision tree:"
   ]
  },
  {
   "cell_type": "code",
   "execution_count": 2,
   "metadata": {
    "collapsed": false
   },
   "outputs": [
    {
     "data": {
      "image/png": "[encoded data removed]",
      "text/plain": [
       "<IPython.core.display.Image object>"
      ]
     },
     "execution_count": 2,
     "metadata": {},
     "output_type": "execute_result"
    }
   ],
   "source": [
    "from IPython.core.display import Image\n",
    "Image(\"decisiontree.png\")"
   ]
  },
  {
   "cell_type": "markdown",
   "metadata": {},
   "source": [
    "The first test is performed in the **root node** (top node) and checks if feature \"X[9]\" has a value smaller than or equal to -0.5350. If it is then we follow the left branch in the flowchart, if it isn't we follow the right branch. This process is repeated until we reach a leaf node from which we obtain predicted class probabilities. \n",
    "\n",
    "The decision tree is built in a **top-down** fashion where the main question is how to choose which feature to split at each node? The answer is to find the feature that best splits the target class into the purest possible children nodes. This **measure of purity** is typically computed as the oposite of the entropy (which is a measure of impurity) of the class label probabilities in the data set. \n",
    "\n",
    "The idea behind classification decision tree construction is to assign an **entropy value to a set of data label probabilities** and use this entropy to find the **best split** at each node in the decision tree. Suppose we have a data set with 100 samples of which 20 belong to class 1 and 80 belong to class 2. For this data set the probability $p_1$ that a data point belongs to class 1 is 0.2, the probability $p_2$ that a data point belongs to class 2 is 0.8. \n",
    "\n",
    "The entropy $H$ of these two class label probabilities $p$ is computed as\n",
    "\n",
    "$$H(p) = -p_1 log_2(p_1) -p_2 log_2(p_2).$$ \n",
    "\n",
    "More general the entropy of any number of probabilities is computed as\n",
    "\n",
    "$$H(p) = -\\sum_i p_i log_2(p_i),$$\n",
    "\n",
    "where $i$ ranges over the class probabilities. Let's compute the entropy for the probability of the classes in our data set:"
   ]
  },
  {
   "cell_type": "code",
   "execution_count": 3,
   "metadata": {
    "collapsed": false
   },
   "outputs": [
    {
     "data": {
      "text/plain": [
       "0.72192809488736231"
      ]
     },
     "execution_count": 3,
     "metadata": {},
     "output_type": "execute_result"
    }
   ],
   "source": [
    "from scipy.stats import entropy\n",
    "\n",
    "entropy([.2,.8],base=2)"
   ]
  },
  {
   "cell_type": "markdown",
   "metadata": {},
   "source": [
    "Now suppose our data set contains only one sample for class 1 and 99 for class 2:"
   ]
  },
  {
   "cell_type": "code",
   "execution_count": 4,
   "metadata": {
    "collapsed": false
   },
   "outputs": [
    {
     "data": {
      "text/plain": [
       "0.080793135895911181"
      ]
     },
     "execution_count": 4,
     "metadata": {},
     "output_type": "execute_result"
    }
   ],
   "source": [
    "entropy([.01,.99],base=2)"
   ]
  },
  {
   "cell_type": "markdown",
   "metadata": {},
   "source": [
    "The entropy for this data set is much lower. To maximize the entropy of a data set we have to create one with an equal number of samples for class 1 and 2:"
   ]
  },
  {
   "cell_type": "code",
   "execution_count": 5,
   "metadata": {
    "collapsed": false
   },
   "outputs": [
    {
     "data": {
      "text/plain": [
       "1.0"
      ]
     },
     "execution_count": 5,
     "metadata": {},
     "output_type": "execute_result"
    }
   ],
   "source": [
    "entropy([.5,.5],base=2)"
   ]
  },
  {
   "cell_type": "markdown",
   "metadata": {},
   "source": [
    "In this case the uncertainty about the classes is maximal. The **binary entropy function** for two classes looks like this:"
   ]
  },
  {
   "cell_type": "code",
   "execution_count": 6,
   "metadata": {
    "collapsed": false
   },
   "outputs": [
    {
     "data": {
      "image/png": "[encoded data removed]",
      "text/plain": [
       "<matplotlib.figure.Figure at 0x7f14394f6bd0>"
      ]
     },
     "metadata": {},
     "output_type": "display_data"
    }
   ],
   "source": [
    "plt.figure(figsize=(4,4))\n",
    "compomics_import.plot_entropy_function()\n",
    "plt.show()"
   ]
  },
  {
   "cell_type": "markdown",
   "metadata": {},
   "source": [
    "A decision tree is constructed by **recursively splitting** (partitioning) a data set $D$. For each split the learning algorithm finds the feature that *best* partitioned the data set. To find this feature we can use several criteria, one of them is called **information gain**.\n",
    "\n",
    "Information gain is the difference between the current entropy of a system and the entropy measured after a feature is chosen. If $D$ is a set of samples and $x$ is a possible feature that partitions $D$ in subsets $D_v$, then:\n",
    "\n",
    "$$G(D,x) = \\text{Entropy}(D) - \\sum\\frac{|D_v|}{|D|} \\text{Entropy}(D_v).$$"
   ]
  },
  {
   "cell_type": "markdown",
   "metadata": {},
   "source": [
    "The **decision tree learning algorithm** computes the information gain for each feature and selects the one with the highest value. In this way, it searches the \"tree space\" according to a greedy strategy, i.e. not all possible trees are evaluated.\n",
    "\n",
    "A tree is constructed by recursively selecting the feature from the current data set with the largest information gain and adding a test to the decision tree. Refer to \"Informatica II\" for the details on how to construct a decision tree using the information gain criterion.\n",
    "\n",
    "Decision trees can become very complex which makes them prone to overfitting the train set. To prevent this, the decision tree learning algorithm stops growing the tree if the information gain is not sufficient to justify the extra complexity of adding another node. Other **stopping criteria** exist such as limiting the number of samples in a node or the depth of the tree.\n",
    "\n",
    "Let's load a data set that contains information about translation initiation sites (TIS) in genes. The data set contains 13375 feature vectors that each represent a nucleotide sequence of length 203. The middle three nucleotides in these sequences are always ATG and are labeled '1' (positive class) if it forms the start of a translation of a gene and '0' (negative class) otherwise. For each ATG site, 3 nucleotides are matched to 1 amino acid and the count of each amino and di-amino acid is used as a feature. These features are computed for both the upstream- and the downstream region relative to the middle annotated ATG."
   ]
  },
  {
   "cell_type": "code",
   "execution_count": 7,
   "metadata": {
    "collapsed": false
   },
   "outputs": [
    {
     "data": {
      "text/html": [
       "<div>\n",
       "<table border=\"1\" class=\"dataframe\">\n",
       "  <thead>\n",
       "    <tr style=\"text-align: right;\">\n",
       "      <th></th>\n",
       "      <th>UP_A</th>\n",
       "      <th>DOWN_A</th>\n",
       "      <th>UP_R</th>\n",
       "      <th>DOWN_R</th>\n",
       "      <th>UP_N</th>\n",
       "      <th>DOWN_N</th>\n",
       "      <th>UP_D</th>\n",
       "      <th>DOWN_D</th>\n",
       "      <th>UP_C</th>\n",
       "      <th>DOWN_C</th>\n",
       "      <th>...</th>\n",
       "      <th>DOWN_VS</th>\n",
       "      <th>UP_VT</th>\n",
       "      <th>DOWN_VT</th>\n",
       "      <th>UP_VW</th>\n",
       "      <th>DOWN_VW</th>\n",
       "      <th>UP_VY</th>\n",
       "      <th>DOWN_VY</th>\n",
       "      <th>UP_VV</th>\n",
       "      <th>DOWN_VV</th>\n",
       "      <th>label</th>\n",
       "    </tr>\n",
       "  </thead>\n",
       "  <tbody>\n",
       "    <tr>\n",
       "      <th>0</th>\n",
       "      <td>2</td>\n",
       "      <td>2</td>\n",
       "      <td>4</td>\n",
       "      <td>2</td>\n",
       "      <td>0</td>\n",
       "      <td>2</td>\n",
       "      <td>0</td>\n",
       "      <td>4</td>\n",
       "      <td>0</td>\n",
       "      <td>1</td>\n",
       "      <td>...</td>\n",
       "      <td>0</td>\n",
       "      <td>0</td>\n",
       "      <td>0</td>\n",
       "      <td>0</td>\n",
       "      <td>0</td>\n",
       "      <td>0</td>\n",
       "      <td>0</td>\n",
       "      <td>0</td>\n",
       "      <td>0</td>\n",
       "      <td>1</td>\n",
       "    </tr>\n",
       "    <tr>\n",
       "      <th>1</th>\n",
       "      <td>0</td>\n",
       "      <td>0</td>\n",
       "      <td>3</td>\n",
       "      <td>2</td>\n",
       "      <td>0</td>\n",
       "      <td>2</td>\n",
       "      <td>2</td>\n",
       "      <td>1</td>\n",
       "      <td>3</td>\n",
       "      <td>0</td>\n",
       "      <td>...</td>\n",
       "      <td>0</td>\n",
       "      <td>0</td>\n",
       "      <td>1</td>\n",
       "      <td>0</td>\n",
       "      <td>0</td>\n",
       "      <td>0</td>\n",
       "      <td>0</td>\n",
       "      <td>0</td>\n",
       "      <td>0</td>\n",
       "      <td>1</td>\n",
       "    </tr>\n",
       "    <tr>\n",
       "      <th>2</th>\n",
       "      <td>6</td>\n",
       "      <td>2</td>\n",
       "      <td>5</td>\n",
       "      <td>1</td>\n",
       "      <td>0</td>\n",
       "      <td>2</td>\n",
       "      <td>0</td>\n",
       "      <td>2</td>\n",
       "      <td>1</td>\n",
       "      <td>0</td>\n",
       "      <td>...</td>\n",
       "      <td>0</td>\n",
       "      <td>0</td>\n",
       "      <td>0</td>\n",
       "      <td>0</td>\n",
       "      <td>0</td>\n",
       "      <td>0</td>\n",
       "      <td>0</td>\n",
       "      <td>0</td>\n",
       "      <td>0</td>\n",
       "      <td>1</td>\n",
       "    </tr>\n",
       "    <tr>\n",
       "      <th>3</th>\n",
       "      <td>0</td>\n",
       "      <td>6</td>\n",
       "      <td>1</td>\n",
       "      <td>1</td>\n",
       "      <td>0</td>\n",
       "      <td>1</td>\n",
       "      <td>0</td>\n",
       "      <td>0</td>\n",
       "      <td>0</td>\n",
       "      <td>2</td>\n",
       "      <td>...</td>\n",
       "      <td>0</td>\n",
       "      <td>0</td>\n",
       "      <td>0</td>\n",
       "      <td>0</td>\n",
       "      <td>0</td>\n",
       "      <td>0</td>\n",
       "      <td>0</td>\n",
       "      <td>0</td>\n",
       "      <td>0</td>\n",
       "      <td>1</td>\n",
       "    </tr>\n",
       "    <tr>\n",
       "      <th>4</th>\n",
       "      <td>2</td>\n",
       "      <td>3</td>\n",
       "      <td>3</td>\n",
       "      <td>2</td>\n",
       "      <td>0</td>\n",
       "      <td>1</td>\n",
       "      <td>1</td>\n",
       "      <td>2</td>\n",
       "      <td>2</td>\n",
       "      <td>0</td>\n",
       "      <td>...</td>\n",
       "      <td>0</td>\n",
       "      <td>0</td>\n",
       "      <td>0</td>\n",
       "      <td>0</td>\n",
       "      <td>1</td>\n",
       "      <td>0</td>\n",
       "      <td>0</td>\n",
       "      <td>0</td>\n",
       "      <td>0</td>\n",
       "      <td>1</td>\n",
       "    </tr>\n",
       "  </tbody>\n",
       "</table>\n",
       "<p>5 rows × 881 columns</p>\n",
       "</div>"
      ],
      "text/plain": [
       "   UP_A  DOWN_A  UP_R  DOWN_R  UP_N  DOWN_N  UP_D  DOWN_D  UP_C  DOWN_C  \\\n",
       "0     2       2     4       2     0       2     0       4     0       1   \n",
       "1     0       0     3       2     0       2     2       1     3       0   \n",
       "2     6       2     5       1     0       2     0       2     1       0   \n",
       "3     0       6     1       1     0       1     0       0     0       2   \n",
       "4     2       3     3       2     0       1     1       2     2       0   \n",
       "\n",
       "   ...    DOWN_VS  UP_VT  DOWN_VT  UP_VW  DOWN_VW  UP_VY  DOWN_VY  UP_VV  \\\n",
       "0  ...          0      0        0      0        0      0        0      0   \n",
       "1  ...          0      0        1      0        0      0        0      0   \n",
       "2  ...          0      0        0      0        0      0        0      0   \n",
       "3  ...          0      0        0      0        0      0        0      0   \n",
       "4  ...          0      0        0      0        1      0        0      0   \n",
       "\n",
       "   DOWN_VV  label  \n",
       "0        0      1  \n",
       "1        0      1  \n",
       "2        0      1  \n",
       "3        0      1  \n",
       "4        0      1  \n",
       "\n",
       "[5 rows x 881 columns]"
      ]
     },
     "execution_count": 7,
     "metadata": {},
     "output_type": "execute_result"
    }
   ],
   "source": [
    "dataset = pd.read_csv(\"TIS.csv\", sep=',')\n",
    "dataset.head()"
   ]
  },
  {
   "cell_type": "markdown",
   "metadata": {},
   "source": [
    "There are 881 features:"
   ]
  },
  {
   "cell_type": "code",
   "execution_count": 8,
   "metadata": {
    "collapsed": false
   },
   "outputs": [
    {
     "data": {
      "text/plain": [
       "(13375, 881)"
      ]
     },
     "execution_count": 8,
     "metadata": {},
     "output_type": "execute_result"
    }
   ],
   "source": [
    "dataset.shape"
   ]
  },
  {
   "cell_type": "markdown",
   "metadata": {},
   "source": [
    "About 25% of the data points are labeled as positive:"
   ]
  },
  {
   "cell_type": "code",
   "execution_count": 9,
   "metadata": {
    "collapsed": false
   },
   "outputs": [
    {
     "data": {
      "text/plain": [
       "0    0.752374\n",
       "1    0.247626\n",
       "Name: label, dtype: float64"
      ]
     },
     "execution_count": 9,
     "metadata": {},
     "output_type": "execute_result"
    }
   ],
   "source": [
    "dataset['label'].value_counts() / dataset['label'].count()"
   ]
  },
  {
   "cell_type": "markdown",
   "metadata": {},
   "source": [
    "In scikit-learn there is the `DecisionTreeClassifier` module that computes a decision tree. Here we optimize the maximum tree depth for the decision using `GridSearchCV` and estimate the generalization performance using nested cross-validation:"
   ]
  },
  {
   "cell_type": "code",
   "execution_count": 10,
   "metadata": {
    "collapsed": false
   },
   "outputs": [
    {
     "name": "stdout",
     "output_type": "stream",
     "text": [
      "[ 0.84144427  0.84791386  0.84993271]\n",
      "mean CV score = 0.846430\n"
     ]
    }
   ],
   "source": [
    "from sklearn import cross_validation\n",
    "from sklearn.grid_search import GridSearchCV\n",
    "from sklearn.tree import DecisionTreeClassifier\n",
    "\n",
    "X = dataset.copy()\n",
    "y = X.pop('label').astype('int')\n",
    "\n",
    "np.random.seed(1)\n",
    "\n",
    "search_space = {'max_depth':[10,20,30,40]}\n",
    "model = DecisionTreeClassifier(criterion='entropy')\n",
    "grid_search = GridSearchCV(model, param_grid=search_space, cv=3)\n",
    "\n",
    "scores = cross_validation.cross_val_score(grid_search, X, y)\n",
    "print scores\n",
    "print \"mean CV score = %f\" % np.mean(scores)"
   ]
  },
  {
   "cell_type": "markdown",
   "metadata": {},
   "source": [
    "Decision trees have several advantages: \n",
    "\n",
    "* ease of interpretation\n",
    "* handles continuous and discrete features\n",
    "* invariant to monotone transformation of features\n",
    "* variable selection automated\n",
    "* robust\n",
    "* scalable\n",
    "\n",
    "However, relative to other learning algorithms, decision trees do not predict very accurately, due to the greedy nature of the tree construction algorithm. Also, trees tend to be **unstable**, as small changes to the inputs can have large effects on the structure of the tree; poor decisions near the root of the tree will propagate to the rest of the tree. \n",
    "Decision trees therefor are called **high variance** models.\n",
    "\n",
    "One way to reduce the variance of a model is to average together many models for which to predictions are not highly correlated. In the case of decision trees, we can train $T$ different trees on random subsets of the data and then average the prediction of each model according to:\n",
    "\n",
    "$$\\hat{f}(x,\\theta) = \\frac{1}{T} \\sum_{i=1}^T f_t(x,\\theta)$$\n",
    "\n",
    "where $f_t$ is the $t^{th}$ tree. This approach is called \"bootstrap aggregating\" ( or **bagging**) and can be applied to many learning algorithms that show high variance. Random forest model are essentially bootstrap aggregated decision trees, where the bagging takes place at the level of the samples and the features. The learning algorithm for fitting a random forest model works as follows:\n",
    "\n",
    "Construct $t$ decision trees by following these steps:\n",
    "\n",
    "1. Sample $n$ data points at random - but with replacement, from the training dataset (containing $n$ feature vectors). These will be the training feature vectors for growing the tree. \n",
    "\n",
    "2. If there are $m$ features, a number $h<<m$ is specified such that at each node, $h$ variables are selected at random out of the m features and the best split on these $h$ is used to split the node. The value of $h$ is held constant during the forest growing.\n",
    " \n",
    "3. Each tree is grown to the largest extent possible. There is no pruning or early stopping. \n",
    "\n",
    "A prediction $y$ is made by majority voting. The proportion of votes for each class $c$ can also be used as the probability of the test point to belong to class $c$. Here estimate the generalization performance of a random forest model (`RandomForestClassifier` from scikit-learn):"
   ]
  },
  {
   "cell_type": "code",
   "execution_count": 11,
   "metadata": {
    "collapsed": false
   },
   "outputs": [
    {
     "name": "stdout",
     "output_type": "stream",
     "text": [
      "[ 0.87015026  0.87572903  0.8795424 ]\n",
      "mean CV score = 0.875141\n"
     ]
    }
   ],
   "source": [
    "from sklearn.ensemble import RandomForestClassifier\n",
    "\n",
    "search_space = {'n_estimators':[10,50,100], 'max_features':[10,20,40], 'max_depth':[10,50,100]}\n",
    "model = RandomForestClassifier(random_state=1,n_jobs=-1)\n",
    "grid_search = GridSearchCV(model, param_grid=search_space, cv=3)\n",
    "\n",
    "scores = cross_validation.cross_val_score(grid_search, X, y)\n",
    "print scores\n",
    "print \"mean CV score = %f\" % np.mean(scores)"
   ]
  },
  {
   "cell_type": "code",
   "execution_count": 12,
   "metadata": {
    "collapsed": true
   },
   "outputs": [],
   "source": [
    "grid_model = grid_search.fit(X,y)"
   ]
  },
  {
   "cell_type": "code",
   "execution_count": 13,
   "metadata": {
    "collapsed": false
   },
   "outputs": [
    {
     "name": "stdout",
     "output_type": "stream",
     "text": [
      "RandomForestClassifier(bootstrap=True, class_weight=None, criterion='gini',\n",
      "            max_depth=50, max_features=40, max_leaf_nodes=None,\n",
      "            min_samples_leaf=1, min_samples_split=2,\n",
      "            min_weight_fraction_leaf=0.0, n_estimators=100, n_jobs=-1,\n",
      "            oob_score=False, random_state=1, verbose=0, warm_start=False)\n"
     ]
    }
   ],
   "source": [
    "print grid_search.best_estimator_"
   ]
  },
  {
   "cell_type": "markdown",
   "metadata": {},
   "source": [
    "Notice how the random forest algorithm computes more accurate TIS classification models. \n",
    "\n",
    "\n",
    "For the construction of each tree in the forest we used only part of the data set, this will typically be 1/3 of the train data, which means that we can use the remaining 1/3 of the train data (that is not seen during training) as test points for this tree. As the subsampling is random for each tree, each data point should be used as test point many times. We can thus use the predictions for these test points to evaluate the performance of the random forest model. The obtained metric is called the **out-of-bag performance** (oob). In scikit-learn we can obtain the oob as follows:"
   ]
  },
  {
   "cell_type": "code",
   "execution_count": 14,
   "metadata": {
    "collapsed": false
   },
   "outputs": [
    {
     "name": "stdout",
     "output_type": "stream",
     "text": [
      "0.871626168224\n"
     ]
    }
   ],
   "source": [
    "model = RandomForestClassifier(n_estimators=100,max_features=40,max_depth=50,oob_score=True,random_state=1)\n",
    "model.fit(X,y)\n",
    "print model.oob_score_"
   ]
  },
  {
   "cell_type": "markdown",
   "metadata": {},
   "source": [
    "<strong>Exercises</strong>\n",
    "\n",
    "- Load the Breast Cancer Wisconsin data set. Use `GridSearchCV` to optimize a random forest model."
   ]
  },
  {
   "cell_type": "code",
   "execution_count": null,
   "metadata": {
    "collapsed": true
   },
   "outputs": [],
   "source": []
  },
  {
   "cell_type": "markdown",
   "metadata": {},
   "source": [
    "- Compare these results to the SVM model with Gaussian kernel function on the same data set."
   ]
  },
  {
   "cell_type": "code",
   "execution_count": null,
   "metadata": {
    "collapsed": true
   },
   "outputs": [],
   "source": []
  }
 ],
 "metadata": {
  "kernelspec": {
   "display_name": "Python 2",
   "language": "python",
   "name": "python2"
  },
  "language_info": {
   "codemirror_mode": {
    "name": "ipython",
    "version": 2
   },
   "file_extension": ".py",
   "mimetype": "text/x-python",
   "name": "python",
   "nbconvert_exporter": "python",
   "pygments_lexer": "ipython2",
   "version": "2.7.11"
  }
 },
 "nbformat": 4,
 "nbformat_minor": 0
}
