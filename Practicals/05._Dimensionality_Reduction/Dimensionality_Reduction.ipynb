{
 "cells": [
  {
   "cell_type": "markdown",
   "metadata": {},
   "source": [
    "#Dimensionality Reduction: PCA, MDS"
   ]
  },
  {
   "cell_type": "code",
   "execution_count": null,
   "metadata": {
    "collapsed": false
   },
   "outputs": [],
   "source": [
    "# import some needed libraries\n",
    "import pandas as pd\n",
    "import matplotlib.pyplot as plt\n",
    "import numpy as np\n",
    "np.random.seed(0)\n",
    "from pylab import *\n",
    "rcParams['figure.figsize'] = (7, 7)\n",
    "font = {'weight' : 'normal',\n",
    "        'size'   : 14}\n",
    "matplotlib.rc('font', **font)"
   ]
  },
  {
   "cell_type": "code",
   "execution_count": null,
   "metadata": {
    "collapsed": false
   },
   "outputs": [],
   "source": [
    "# this command makes sure we can plot inline in the notebook\n",
    "%matplotlib inline"
   ]
  },
  {
   "cell_type": "markdown",
   "metadata": {},
   "source": [
    "## Principal Component Analysis (PCA)"
   ]
  },
  {
   "cell_type": "markdown",
   "metadata": {},
   "source": [
    "### PCA for heart disease classification"
   ]
  },
  {
   "cell_type": "markdown",
   "metadata": {},
   "source": [
    "### The data"
   ]
  },
  {
   "cell_type": "code",
   "execution_count": null,
   "metadata": {
    "collapsed": false
   },
   "outputs": [],
   "source": [
    "# load the data from a text file\n",
    "heart = pd.read_table('heart.txt', header=0)"
   ]
  },
  {
   "cell_type": "markdown",
   "metadata": {},
   "source": [
    "#### Explore the data"
   ]
  },
  {
   "cell_type": "markdown",
   "metadata": {},
   "source": [
    "#### Description of the data\n",
    "0. age: age in years\n",
    "- sex: sex\n",
    "    + 1 = male\n",
    "    + 0 = female\n",
    "- cp: chest pain type\n",
    "    + 1 = typical angina\n",
    "    + 2 = atypical angina\n",
    "    + 3 = non-anginal pain\n",
    "    + 4 = asymptomatic\n",
    "- trestbps: resting blood pressure in mm Hg\n",
    "- chol: serum cholestoral in mg/dl\n",
    "- fbs: fasting blood sugar > 120 mg/dl\n",
    "    + 1 = true\n",
    "    + 0 = false\n",
    "- restecg: resting electrocardiographic results\n",
    "    + 0 = normal\n",
    "    + 1 = having ST-T wave abnormality\n",
    "    + 2 = showing probable or definite left ventricular hypertrophy\n",
    "- thalach: maximum heart rate achieved\n",
    "- exang: exercise induced angina\n",
    "    + 1 = yes\n",
    "    + 0 = no\n",
    "- oldpeak: ST depression induced by exercise relative to rest\n",
    "- slope: the slope of the peak exercise ST segment\n",
    "    + 1 = upsloping\n",
    "    + 2 = flat\n",
    "    + 3 = downsloping\n",
    "- ca: number of major vessels (0-3) colored by flourosopy\n",
    "- thal: thallium scan -- the myocardial perfusion pattern \n",
    "    + 3 = normal\n",
    "    + 6 = fixed defect\n",
    "    + 7 = reversable defect\n",
    "- target: diagnosis of heart disease\n",
    "    + 0 = healthy subject\n",
    "    + 1 = ill subject"
   ]
  },
  {
   "cell_type": "markdown",
   "metadata": {},
   "source": [
    "- **Exercise 1**: Explore the data: print the number of samples, the number of features. How many samples does the dataset contain? How many features?    \n",
    "<p>&nbsp; </p>\n",
    "                    Which variables are categorical? Which ones are continuous?\n",
    "<p>&nbsp; </p>\n",
    "<p>&nbsp; </p>\n",
    "<p>&nbsp; </p>"
   ]
  },
  {
   "cell_type": "markdown",
   "metadata": {},
   "source": [
    "- **Exercise 2**: How many healthy subjects are in the dataset? How many ill subjects? (tip: call the *pd.value_counts* function on the *heart.target* column).\n",
    "<p>&nbsp; </p>"
   ]
  },
  {
   "cell_type": "markdown",
   "metadata": {},
   "source": [
    "#### Visualize the data"
   ]
  },
  {
   "cell_type": "code",
   "execution_count": null,
   "metadata": {
    "collapsed": false
   },
   "outputs": [],
   "source": [
    "# we need some colors for our plots!\n",
    "colors = ['red', 'green', 'blue', 'yellow', 'cyan', 'pink', 'orange', 'purple']\n",
    "from itertools import cycle"
   ]
  },
  {
   "cell_type": "markdown",
   "metadata": {},
   "source": [
    "Our dataset contains both *continuos* and *categorical* variables.\n",
    "\n",
    "Because we will visualize them in a different way, let's split the dataset like this:"
   ]
  },
  {
   "cell_type": "code",
   "execution_count": null,
   "metadata": {
    "collapsed": false
   },
   "outputs": [],
   "source": [
    "# the continuous variables\n",
    "continuous = heart[['age','trestbps', 'chol', 'thalach', 'oldpeak']]\n",
    "# the categorical variables\n",
    "categorical = heart[['sex', 'cp', 'fbs', 'restecg', 'exang', 'slope', 'ca', 'thal']]"
   ]
  },
  {
   "cell_type": "markdown",
   "metadata": {},
   "source": [
    "Let's start with a boxplot of our _continuous_ variables:"
   ]
  },
  {
   "cell_type": "code",
   "execution_count": null,
   "metadata": {
    "collapsed": false
   },
   "outputs": [],
   "source": [
    "bp = continuous.boxplot(patch_artist=True)\n",
    "for patch, color in zip(bp['boxes'], cycle(colors)):\n",
    "    patch.set_facecolor(color)\n",
    "    patch.set_alpha(.6)\n",
    "plt.title('Boxplot continuous variables')"
   ]
  },
  {
   "cell_type": "markdown",
   "metadata": {},
   "source": [
    "- **Exercise 3**: What can you say about the distribution of these features? Do you think any sort of data pre-processing is required before performing a PCA?\n",
    "<p>&nbsp; </p>\n",
    "<p>&nbsp; </p>"
   ]
  },
  {
   "cell_type": "markdown",
   "metadata": {},
   "source": [
    "And now some barplots for our _categorical_ variables:"
   ]
  },
  {
   "cell_type": "code",
   "execution_count": null,
   "metadata": {
    "collapsed": false
   },
   "outputs": [],
   "source": [
    "fig = plt.figure(figsize=(11,7))\n",
    "fig.suptitle('Categorical variables', fontsize=14)\n",
    "# loop for the plotting\n",
    "for i in range(len((categorical.columns))):\n",
    "    vec = categorical[categorical.columns[i]]\n",
    "    ax = plt.subplot(2, 4, i+1)\n",
    "    vec.value_counts().plot(ax=ax, kind='bar', color=colors[i], title=categorical.columns[i])"
   ]
  },
  {
   "cell_type": "markdown",
   "metadata": {},
   "source": [
    "- **Exercise 4**: Do you see anything strange in the values of the two variables _major vessels_ and _thallium scan_? What?\n",
    "<p>&nbsp; </p>"
   ]
  },
  {
   "cell_type": "markdown",
   "metadata": {},
   "source": [
    "#### Dealing with missing data"
   ]
  },
  {
   "cell_type": "code",
   "execution_count": null,
   "metadata": {
    "collapsed": false,
    "scrolled": true
   },
   "outputs": [],
   "source": [
    "# let's convert the dataframe to a numpy array (just for convenience!)\n",
    "heart_data = heart.values\n",
    "i = np.where(heart_data=='?')[0]\n",
    "print 'The dataset contains %i missing values' %len(i)"
   ]
  },
  {
   "cell_type": "code",
   "execution_count": null,
   "metadata": {
    "collapsed": false
   },
   "outputs": [],
   "source": [
    "# a list of True and False to flag if a value is missing or not\n",
    "missing = np.in1d(range(heart_data.shape[0]), i)\n",
    "# now we remove the missing values\n",
    "heart_data_clean = heart_data[~missing]"
   ]
  },
  {
   "cell_type": "markdown",
   "metadata": {},
   "source": [
    "- **Exercise 5**: How many samples does the dataset contain after missing data removal?\n",
    "<p>&nbsp; </p>"
   ]
  },
  {
   "cell_type": "code",
   "execution_count": null,
   "metadata": {
    "collapsed": false
   },
   "outputs": [],
   "source": [
    "# let's now skip the last column (which is the target, and not a feature)\n",
    "X = heart_data_clean[:, 0:heart_data_clean.shape[1]-1] \n",
    "X = np.array(X, dtype=float)\n",
    "# our y (target) vector is the last column\n",
    "y = np.asarray(heart_data_clean[:, heart_data_clean.shape[1]-1], dtype=int)"
   ]
  },
  {
   "cell_type": "markdown",
   "metadata": {},
   "source": [
    "### Principal Component Analysis"
   ]
  },
  {
   "cell_type": "markdown",
   "metadata": {},
   "source": [
    "Let's run a PCA on our data set with the **sklearn** package:"
   ]
  },
  {
   "cell_type": "code",
   "execution_count": null,
   "metadata": {
    "collapsed": false
   },
   "outputs": [],
   "source": [
    "# import the library\n",
    "from sklearn.decomposition import PCA"
   ]
  },
  {
   "cell_type": "code",
   "execution_count": null,
   "metadata": {
    "collapsed": false
   },
   "outputs": [],
   "source": [
    "# create a model and fit and transform the data\n",
    "pca = PCA()\n",
    "X_pca = pca.fit_transform(X)"
   ]
  },
  {
   "cell_type": "markdown",
   "metadata": {},
   "source": [
    "#### Inspecting the PCA results"
   ]
  },
  {
   "cell_type": "markdown",
   "metadata": {},
   "source": [
    "Let's have a look at the the proportion of variance explained by each component:"
   ]
  },
  {
   "cell_type": "code",
   "execution_count": null,
   "metadata": {
    "collapsed": false
   },
   "outputs": [],
   "source": [
    "print pca.explained_variance_ratio_"
   ]
  },
  {
   "cell_type": "markdown",
   "metadata": {},
   "source": [
    "- **Exercise 6**: Which is the percentage of variance explained by the first component? And the one explained by the second?\n",
    "<p>&nbsp; </p>\n",
    "<p>&nbsp; </p>"
   ]
  },
  {
   "cell_type": "markdown",
   "metadata": {},
   "source": [
    "In order to decide how many principal components you should retain, you can summarise the results of the performed PCA by making a **scree plot**.  A scree plot shows the fraction of total variance in the data as explained or represented by each PC."
   ]
  },
  {
   "cell_type": "code",
   "execution_count": null,
   "metadata": {
    "collapsed": false
   },
   "outputs": [],
   "source": [
    "# render the screeplot\n",
    "plt.plot(pca.explained_variance_, 'ro-', linewidth=2)\n",
    "plt.xlabel('n_components')\n",
    "plt.ylabel('explained_variance_')\n",
    "plt.title('PCA: screeplot', fontsize=14)"
   ]
  },
  {
   "cell_type": "markdown",
   "metadata": {},
   "source": [
    "- **Exercise 7**: How many components do you think are needed to explain most of the variance of this dataset?\n",
    "<p>&nbsp; </p>\n",
    "<p>&nbsp; </p>"
   ]
  },
  {
   "cell_type": "markdown",
   "metadata": {},
   "source": [
    "#### Visualize the data projection"
   ]
  },
  {
   "cell_type": "code",
   "execution_count": null,
   "metadata": {
    "collapsed": false
   },
   "outputs": [],
   "source": [
    "diagnose = y\n",
    "diagnose_labels = ('healthy', 'ill')"
   ]
  },
  {
   "cell_type": "code",
   "execution_count": null,
   "metadata": {
    "collapsed": false
   },
   "outputs": [],
   "source": [
    "exercise = np.asarray(heart_data_clean[:, 8], dtype = int)\n",
    "exercise_labels = ('exercise induced angina', 'non-exercise induced angina')"
   ]
  },
  {
   "cell_type": "markdown",
   "metadata": {},
   "source": [
    "We define a function to quickly plot the data projection onto 2D:"
   ]
  },
  {
   "cell_type": "code",
   "execution_count": null,
   "metadata": {
    "collapsed": false
   },
   "outputs": [],
   "source": [
    "def plot2D(data, target, labels, atitle):\n",
    "    fig, ax1 = plt.subplots(figsize=(7,7))\n",
    "    plt.xlabel('coord 1')\n",
    "    plt.ylabel('coord 2')\n",
    "    for i, c in zip(np.unique(target), cycle(colors)):\n",
    "        plt.scatter(data[target == i, 0], data[target == i, 1],\n",
    "                  s=50, alpha=.6, c=c, label='%s - %s' %(i, labels[i]))\n",
    "    plt.legend()\n",
    "    plt.title(atitle)"
   ]
  },
  {
   "cell_type": "code",
   "execution_count": null,
   "metadata": {
    "collapsed": false
   },
   "outputs": [],
   "source": [
    "# let's plot the components highlighting healthy and ill subjects \n",
    "plot2D(X_pca, diagnose, diagnose_labels, 'PCA: heart disease dataset')"
   ]
  },
  {
   "cell_type": "markdown",
   "metadata": {},
   "source": [
    "What you should have at this step is a projection of your 13 features samples on just 2 dimensions.\n",
    "However, the two classes do not seem nicely separated one from the other. This happened because we did not standardize our data! \n",
    "\n",
    "So let's see what happens if we standardize the data set:"
   ]
  },
  {
   "cell_type": "markdown",
   "metadata": {},
   "source": [
    "#### Standardize the data"
   ]
  },
  {
   "cell_type": "code",
   "execution_count": null,
   "metadata": {
    "collapsed": false
   },
   "outputs": [],
   "source": [
    "# import the library\n",
    "from sklearn import preprocessing\n",
    "from sklearn.preprocessing import StandardScaler"
   ]
  },
  {
   "cell_type": "code",
   "execution_count": null,
   "metadata": {
    "collapsed": false
   },
   "outputs": [],
   "source": [
    "# we scale the dataset and store it as a dataframe\n",
    "X_stand = StandardScaler().fit_transform(X)\n",
    "stand = pd.DataFrame(X_stand, columns=heart.columns[0: len(heart.columns)-1])"
   ]
  },
  {
   "cell_type": "markdown",
   "metadata": {},
   "source": [
    "- **Exercise 8**: Using some code from above (copy and paste!) make a boxplot of the continuous variables. How does the standardization affect the features?\n",
    "<p>&nbsp; </p>\n",
    "<p>&nbsp; </p>"
   ]
  },
  {
   "cell_type": "markdown",
   "metadata": {},
   "source": [
    "Let's now run another PCA on our standardized data this time:"
   ]
  },
  {
   "cell_type": "code",
   "execution_count": null,
   "metadata": {
    "collapsed": true
   },
   "outputs": [],
   "source": [
    "X_pca_stand = pca.fit_transform(X_stand)"
   ]
  },
  {
   "cell_type": "markdown",
   "metadata": {},
   "source": [
    "- **Exercise 9**: Make a screeplot for the PCA just obtained.\n",
    "<p>&nbsp; </p>\n",
    "<p>&nbsp; </p>"
   ]
  },
  {
   "cell_type": "markdown",
   "metadata": {},
   "source": [
    "And the new data projection is:"
   ]
  },
  {
   "cell_type": "code",
   "execution_count": null,
   "metadata": {
    "collapsed": false
   },
   "outputs": [],
   "source": [
    "plot2D(X_pca_stand, diagnose, diagnose_labels, 'PCA: heart disease standardized dataset')"
   ]
  },
  {
   "cell_type": "markdown",
   "metadata": {},
   "source": [
    "The two classes are now more easily separable from each other.\n",
    "\n",
    "Now we take only the components associated with ill subjects (where diagnose==1), and we plot the 2D projection accordingly:\n"
   ]
  },
  {
   "cell_type": "code",
   "execution_count": null,
   "metadata": {
    "collapsed": false
   },
   "outputs": [],
   "source": [
    "pca_ill = X_pca_stand[diagnose==1,:]\n",
    "# and these are the 'exercise' values for the ill subjects\n",
    "exercise_ill = exercise[diagnose==1]"
   ]
  },
  {
   "cell_type": "code",
   "execution_count": null,
   "metadata": {
    "collapsed": false
   },
   "outputs": [],
   "source": [
    "# now we plot the components for the ill subjects, highlighting if they had an exercise-induced angina or not\n",
    "plot2D(pca_ill, exercise_ill, exercise_labels, 'PCA: exercise induced angina?')"
   ]
  },
  {
   "cell_type": "markdown",
   "metadata": {},
   "source": [
    "- **Exercise 10**: Do you think is it reasonably easy to classify ill subjects in those who had an exercise-induced angina and those who did not?\n",
    "<p>&nbsp; </p>\n",
    "<p>&nbsp; </p>"
   ]
  },
  {
   "cell_type": "markdown",
   "metadata": {},
   "source": [
    "# Multi Dimensional Scaling (MDS)"
   ]
  },
  {
   "cell_type": "markdown",
   "metadata": {},
   "source": [
    "## MDS for heart disease classification"
   ]
  },
  {
   "cell_type": "markdown",
   "metadata": {},
   "source": [
    "We will first use MDS to visualize the heart disease dataset we just analyzed."
   ]
  },
  {
   "cell_type": "code",
   "execution_count": null,
   "metadata": {
    "collapsed": false
   },
   "outputs": [],
   "source": [
    "# import the library we will need\n",
    "from sklearn import manifold"
   ]
  },
  {
   "cell_type": "code",
   "execution_count": null,
   "metadata": {
    "collapsed": false
   },
   "outputs": [],
   "source": [
    "mds = manifold.MDS(n_components=2)"
   ]
  },
  {
   "cell_type": "code",
   "execution_count": null,
   "metadata": {
    "collapsed": false
   },
   "outputs": [],
   "source": [
    "# run the MDS\n",
    "Y_mds = mds.fit_transform(X_stand)"
   ]
  },
  {
   "cell_type": "code",
   "execution_count": null,
   "metadata": {
    "collapsed": false
   },
   "outputs": [],
   "source": [
    "# plot the 2D projection (we can simply reuse the function we defined before!)\n",
    "plot2D(Y_mds, diagnose, diagnose_labels, 'MDS: heart disease dataset')"
   ]
  },
  {
   "cell_type": "markdown",
   "metadata": {},
   "source": [
    "- **Exercise 11**: This 2D projection is somehow different from the one obtained through a PCA. Can you explain how the two techniques are different?\n",
    "<p>&nbsp; </p>\n",
    "<p>&nbsp; </p>"
   ]
  },
  {
   "cell_type": "markdown",
   "metadata": {},
   "source": [
    "## MDS for biological response prediction"
   ]
  },
  {
   "cell_type": "markdown",
   "metadata": {},
   "source": [
    "We will now use MDS for a different dataset."
   ]
  },
  {
   "cell_type": "markdown",
   "metadata": {},
   "source": [
    "### The data"
   ]
  },
  {
   "cell_type": "code",
   "execution_count": null,
   "metadata": {
    "collapsed": false
   },
   "outputs": [],
   "source": [
    "# load the data from a text file\n",
    "response = pd.read_csv('biol_response.csv', header=0)"
   ]
  },
  {
   "cell_type": "markdown",
   "metadata": {},
   "source": [
    "- **Exercise 12**: Have a look at the data. How many samples does this dataset contain? How many features?\n",
    "<p>&nbsp; </p>\n",
    "<p>&nbsp; </p>"
   ]
  },
  {
   "cell_type": "markdown",
   "metadata": {},
   "source": [
    "###**Description of the biological response dataset**\n",
    "This dataset has been used in a _kaggle_ competition to predict biological response of molecules from their chemical properties.\n",
    "Each row in this data set represents a molecule. The first column contains experimental data describing an actual biological response; the molecule was seen to elicit this response (1), or not (0). The remaining columns represent molecular descriptors (d1 through d1776), these are calculated properties that can capture some of the characteristics of the molecule - for example size, shape, or elemental constitution. The descriptor matrix has been normalized. For more information on the challenge: https://www.kaggle.com/c/bioresponse."
   ]
  },
  {
   "cell_type": "markdown",
   "metadata": {},
   "source": [
    "- **Exercise 13**: Get the unique counts of the _Activity_ variable (again use some code from above!). How many active samples does the dataset contain? How many inactive samples?\n",
    "<p>&nbsp; </p>"
   ]
  },
  {
   "cell_type": "markdown",
   "metadata": {},
   "source": [
    "#### Visualize the data"
   ]
  },
  {
   "cell_type": "markdown",
   "metadata": {},
   "source": [
    "This is a big dataset, let's just select 15 variables and plot them:"
   ]
  },
  {
   "cell_type": "code",
   "execution_count": null,
   "metadata": {
    "collapsed": false
   },
   "outputs": [],
   "source": [
    "columns = np.random.choice(response.columns.values, 50)"
   ]
  },
  {
   "cell_type": "code",
   "execution_count": null,
   "metadata": {
    "collapsed": false
   },
   "outputs": [],
   "source": [
    "plt.figure(figsize=(15,7))\n",
    "bp = response[columns].boxplot(patch_artist=True)\n",
    "plt.xticks(rotation=90) # set the label on the x axis rotated in vertical\n",
    "for patch, color in zip(bp['boxes'], cycle(colors)):\n",
    "    patch.set_facecolor(color)\n",
    "    patch.set_alpha(.6)\n",
    "plt.title('Boxplot 50 random variables', fontsize=14)"
   ]
  },
  {
   "cell_type": "markdown",
   "metadata": {},
   "source": [
    "- **Exercise 14**: This dataset is already normalized. Can you explain in which way? Which normalization method has been applied to the data?\n",
    "<p>&nbsp; </p>\n",
    "<p>&nbsp; </p>\n",
    "<p>&nbsp; </p>"
   ]
  },
  {
   "cell_type": "code",
   "execution_count": null,
   "metadata": {
    "collapsed": false
   },
   "outputs": [],
   "source": [
    "# we now convert the dataframe to a numpy array\n",
    "X = response.values\n",
    "X = X [:, 1:X.shape[1]] #skip first column\n",
    "activity = np.asarray(response.Activity) # numeric target (y)\n",
    "activity_labels = ('inactive', 'active')"
   ]
  },
  {
   "cell_type": "markdown",
   "metadata": {},
   "source": [
    "Now we run the MDS: this is a big dataset, it will take some time..."
   ]
  },
  {
   "cell_type": "code",
   "execution_count": null,
   "metadata": {
    "collapsed": false
   },
   "outputs": [],
   "source": [
    "Y_mds = mds.fit_transform(X)"
   ]
  },
  {
   "cell_type": "markdown",
   "metadata": {},
   "source": [
    "We can now just use the same function of before and plot the 2D projection:"
   ]
  },
  {
   "cell_type": "code",
   "execution_count": null,
   "metadata": {
    "collapsed": false
   },
   "outputs": [],
   "source": [
    "plot2D(Y_mds, activity, activity_labels, 'MDS: biological response dataset')"
   ]
  },
  {
   "cell_type": "markdown",
   "metadata": {},
   "source": [
    "This doesn't look too nice, does it? There are clearly some clusters, but the overlapping between active and inactive samples is too big to be able to actually tell the two classes apart. The MDS is clearly not the most appropriate technique to visualize this dataset."
   ]
  },
  {
   "cell_type": "markdown",
   "metadata": {},
   "source": [
    "## MDS for Yeast Gene Expression Classification"
   ]
  },
  {
   "cell_type": "markdown",
   "metadata": {},
   "source": [
    "Let's see if the MDS does a better job on Yeast gene expression data."
   ]
  },
  {
   "cell_type": "code",
   "execution_count": null,
   "metadata": {
    "collapsed": false
   },
   "outputs": [],
   "source": [
    "# import the file from a text file\n",
    "yeast = pd.read_table('yeast.csv', sep = ' ', header=0)"
   ]
  },
  {
   "cell_type": "markdown",
   "metadata": {},
   "source": [
    "- **Exercise 15**: Have a look at the data. How many samples does this dataset contain? How many features?\n",
    "<p>&nbsp; </p>\n",
    "<p>&nbsp; </p>"
   ]
  },
  {
   "cell_type": "markdown",
   "metadata": {},
   "source": [
    "#### Visualize the data"
   ]
  },
  {
   "cell_type": "code",
   "execution_count": null,
   "metadata": {
    "collapsed": false
   },
   "outputs": [],
   "source": [
    "plt.figure(figsize=(15,7))\n",
    "cols = [col for col in yeast.columns if col not in ['gene_class']]\n",
    "bp = yeast[cols].boxplot(patch_artist=True)\n",
    "plt.xticks(rotation=90)\n",
    "for patch, color in zip(bp['boxes'], cycle(colors)):\n",
    "    patch.set_facecolor(color)\n",
    "    patch.set_alpha(.6)\n",
    "plt.title('Boxplot: yeast gene expressions', fontsize=14)"
   ]
  },
  {
   "cell_type": "markdown",
   "metadata": {},
   "source": [
    "- **Exercise 16**: Do the features have all the same range? If yes, which one?\n",
    "<p>&nbsp; </p>"
   ]
  },
  {
   "cell_type": "markdown",
   "metadata": {},
   "source": [
    "- **Exercise 17**: Get the unique counts of the Label variable. How many classes are there for the genes? Which is the most abundant class?\n",
    "<p>&nbsp; </p>\n",
    "<p>&nbsp; </p>"
   ]
  },
  {
   "cell_type": "code",
   "execution_count": null,
   "metadata": {
    "collapsed": false
   },
   "outputs": [],
   "source": [
    "# let's get rid of some columns we do not need for the MDS\n",
    "cols = [col for col in yeast.columns if col not in ['ORF', 'Label','gene_class']]\n",
    "X = np.asarray(yeast[cols])"
   ]
  },
  {
   "cell_type": "code",
   "execution_count": null,
   "metadata": {
    "collapsed": false
   },
   "outputs": [],
   "source": [
    "# run the MDS\n",
    "Y_mds = mds.fit_transform(X)"
   ]
  },
  {
   "cell_type": "code",
   "execution_count": null,
   "metadata": {
    "collapsed": false
   },
   "outputs": [],
   "source": [
    "gene_class = np.asarray(yeast.gene_class)\n",
    "gene_labels = pd.unique(yeast.Label)"
   ]
  },
  {
   "cell_type": "code",
   "execution_count": null,
   "metadata": {
    "collapsed": false
   },
   "outputs": [],
   "source": [
    "# plot the 2D projection\n",
    "plot2D(Y_mds, gene_class, gene_labels, 'MDS: yeast gene expression dataset')"
   ]
  },
  {
   "cell_type": "markdown",
   "metadata": {},
   "source": [
    "Let's just focus on _Ribo_ and _nc_ (non-classified) genes, and look at the 2D projection."
   ]
  },
  {
   "cell_type": "code",
   "execution_count": null,
   "metadata": {
    "collapsed": false
   },
   "outputs": [],
   "source": [
    "subset_mds = Y_mds[(gene_class==2)|(gene_class==5),:]\n",
    "subset_gene_class = gene_class[(gene_class==2)|(gene_class==5)]\n",
    "plot2D(subset_mds, subset_gene_class, gene_labels, 'MDS: Ribo genes')"
   ]
  },
  {
   "cell_type": "markdown",
   "metadata": {},
   "source": [
    "- **Exercise 18**: Can you easily distinguish the Ribo genes from the rest?\n",
    "<p>&nbsp; </p>"
   ]
  },
  {
   "cell_type": "markdown",
   "metadata": {},
   "source": [
    "- **Exercise 19**: By default, the __Euclidean__ distance is used in the MDS to compute the dissimilarities between the data points. Do you know any other metrics that could be used instead to represent similarities/dissimilarities?\n",
    "<p>&nbsp; </p>\n",
    "<p>&nbsp; </p>"
   ]
  },
  {
   "cell_type": "code",
   "execution_count": null,
   "metadata": {
    "collapsed": true
   },
   "outputs": [],
   "source": []
  }
 ],
 "metadata": {
  "kernelspec": {
   "display_name": "Python 2",
   "language": "python",
   "name": "python2"
  },
  "language_info": {
   "codemirror_mode": {
    "name": "ipython",
    "version": 2
   },
   "file_extension": ".py",
   "mimetype": "text/x-python",
   "name": "python",
   "nbconvert_exporter": "python",
   "pygments_lexer": "ipython2",
   "version": "2.7.9"
  }
 },
 "nbformat": 4,
 "nbformat_minor": 0
}
