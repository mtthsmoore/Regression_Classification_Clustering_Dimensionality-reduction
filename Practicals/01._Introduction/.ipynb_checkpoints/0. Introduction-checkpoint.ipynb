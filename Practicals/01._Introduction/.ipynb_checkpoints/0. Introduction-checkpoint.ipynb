{
 "cells": [
  {
   "cell_type": "code",
   "execution_count": 87,
   "metadata": {
    "collapsed": false
   },
   "outputs": [
    {
     "data": {
      "text/html": [
       "<link href='http://fonts.googleapis.com/css?family=Alegreya+Sans:100,300,400,500,700,800,900,100italic,300italic,400italic,500italic,700italic,800italic,900italic' rel='stylesheet' type='text/css'>\n",
       "<link href='http://fonts.googleapis.com/css?family=Arvo:400,700,400italic' rel='stylesheet' type='text/css'>\n",
       "<link href='http://fonts.googleapis.com/css?family=PT+Mono' rel='stylesheet' type='text/css'>\n",
       "<link href='http://fonts.googleapis.com/css?family=Shadows+Into+Light' rel='stylesheet' type='text/css'>\n",
       "<link href='http://fonts.googleapis.com/css?family=Philosopher:400,700,400italic,700italic' rel='stylesheet' type='text/css'>\n",
       "<link href='http://fonts.googleapis.com/css?family=Open+Sans' rel='stylesheet' type='text/css'>\n",
       "\n",
       "<style>\n",
       "\n",
       "@font-face {\n",
       "    font-family: \"Computer Modern\";\n",
       "    src: url('http://mirrors.ctan.org/fonts/cm-unicode/fonts/otf/cmunss.otf');\n",
       "}\n",
       "\n",
       "\n",
       "#notebook_panel { /* main background */\n",
       "    background: #888;\n",
       "    color: #f6f6f6;\n",
       "}\n",
       "\n",
       "div.cell { /* set cell width to about 80 chars */\n",
       "}\n",
       "\n",
       "div #notebook { /* centre the content */\n",
       "    background: #fff; /* white background for content */\n",
       "    margin: auto;\n",
       "}\n",
       "\n",
       "#notebook li { /* More space between bullet points */\n",
       "margin-top:0.8em;\n",
       "}\n",
       "\n",
       "/* draw border around running cells */\n",
       "div.cell.border-box-sizing.code_cell.running {\n",
       "    border: 3px solid #111;\n",
       "}\n",
       "\n",
       "/* Put a solid color box around each cell and its output, visually linking them together */\n",
       "div.cell.code_cell {\n",
       "    /*background-color: rgba(171,165,131,0.3); /*\n",
       "    border-radius: 10px; /* rounded borders */\n",
       "    padding: 1em;\n",
       "    /*margin-top: 1em;*/\n",
       "}\n",
       "\n",
       "div.text_cell_render{\n",
       "    font-family: 'Open Sans', Helvetica;\n",
       "    line-height: 140%;\n",
       "    font-size: 105%;\n",
       "    /*margin-top:15px;*/\n",
       "    margin-bottom:8px;\n",
       "    text-align:justify;\n",
       "}\n",
       "\n",
       "/* Formatting for header cells */\n",
       ".text_cell_render h1 {\n",
       "    font-family: 'Open Sans',sans-serif;\n",
       "    font-weight: 100;\n",
       "    font-size: 30pt;\n",
       "    line-height: 100%;\n",
       "    display: block;\n",
       "}\n",
       "\n",
       ".text_cell_render h2 {\n",
       "    font-family: 'Philosopher', serif;\n",
       "    font-weight: 700;\n",
       "    font-size: 24pt;\n",
       "    line-height: 100%;\n",
       "    color: rgb(171,165,131);\n",
       "    margin-bottom: 0.1em;\n",
       "    margin-top: 0.1em;\n",
       "    display: block;\n",
       "}    \n",
       "\n",
       ".text_cell_render h3 {\n",
       "    font-family: 'Philosopher', serif;\n",
       "    margin-top:12px;\n",
       "    margin-bottom: 3px;\n",
       "    font-style: italic;\n",
       "    color: rgb(95,92,72);\n",
       "}\n",
       "\n",
       ".text_cell_render h4 {\n",
       "    font-family: 'Philosopher', serif;\n",
       "}\n",
       "\n",
       ".text_cell_render h5 {\n",
       "    font-family: 'Alegreya Sans', sans-serif;\n",
       "    font-weight: 300;\n",
       "    font-size: 16pt;\n",
       "    color: grey;\n",
       "    font-style: italic;\n",
       "    margin-bottom: .1em;\n",
       "    margin-top: 0.1em;\n",
       "    display: block;\n",
       "}\n",
       "\n",
       ".text_cell_render h6 {\n",
       "    font-family: 'PT Mono', sans-serif;\n",
       "    font-weight: 300;\n",
       "    font-size: 10pt;\n",
       "    color: grey;\n",
       "    margin-bottom: 1px;\n",
       "    margin-top: 1px;\n",
       "}\n",
       "\n",
       ".CodeMirror{\n",
       "        font-family: \"PT Mono\";\n",
       "        font-size: 100%;\n",
       "}\n",
       "\n",
       ".output_area {\n",
       "\tmargin-top:20px;\n",
       "}\n",
       "\n",
       ".output_stderr {\n",
       "\tdisplay:none;\n",
       "\t}\n",
       "\n",
       ".output_subarea {\n",
       "\tdisplay: block;\n",
       "    margin: 0 auto;\n",
       "}\n",
       "\n",
       ".output_png img {\n",
       "    display: block;\n",
       "    margin-left: auto;\n",
       "    margin-right: auto;\n",
       "}\n",
       "\n",
       ".prompt {\n",
       "\tvisible: false;\n",
       "\t}\n",
       "\n",
       "</style>\n",
       "\n"
      ],
      "text/plain": [
       "<IPython.core.display.HTML object>"
      ]
     },
     "execution_count": 87,
     "metadata": {},
     "output_type": "execute_result"
    }
   ],
   "source": [
    "from IPython.core.display import HTML;css_file = '../../my.css';HTML(open(css_file, \"r\").read())"
   ]
  },
  {
   "cell_type": "markdown",
   "metadata": {},
   "source": [
    "# Python"
   ]
  },
  {
   "cell_type": "markdown",
   "metadata": {},
   "source": [
    "Python is a modern, general-purpose programming language.\n",
    "In this session you will get a quick introduction to it, with a special focus on Python for data analysis, and topics which will be needed in the following sessions.\n",
    "\n",
    "Some key points of Python:\n",
    "\n",
    "- It has a strong position in scientific computing.\n",
    "- It counts a large community of users, easy to find help and documentation.\n",
    "- It has an extensive ecosystem of scientific libraries and environments.\n",
    "\n",
    "A typical Python Scientific Computing Environment includes many dedicated tools. The **SciPy** (Scientific Python, http://www.scipy.org) environment is an open source Python library implementing many useful resources for data exploration, visualization and analysis. We will specifically look at: \n",
    "\n",
    "  - **numpy**: http://numpy.scipy.org - Numerical Python\n",
    "  - **matplotlib**: http://www.matplotlib.org - Plotting in Python\n",
    "  - **pandas**: http://pandas.pydata.org/ - Python Data Analysis\n",
    "    \n",
    "**Note**: to resolve the exercises insert cells in the Notebook and write your code in these cells. We start the practical sessions with a short introduction to most of the basic Python commands we will need throughout this course. You are assumed to have a basic understanding of programming in Python that should allow you to understand the code of a simple guess game:"
   ]
  },
  {
   "cell_type": "code",
   "execution_count": 88,
   "metadata": {
    "collapsed": false
   },
   "outputs": [
    {
     "name": "stdout",
     "output_type": "stream",
     "text": [
      "Enter an integer from 1 to 99: 50\n",
      "guess is low\n",
      "Enter an integer from 1 to 99: 80\n",
      "guess is high\n",
      "Enter an integer from 1 to 99: 60\n",
      "guess is low\n",
      "Enter an integer from 1 to 99: 70\n",
      "you guessed it!\n"
     ]
    }
   ],
   "source": [
    "import random\n",
    "\n",
    "def get_input(minv,maxv):\n",
    "    return int(raw_input(\"Enter an integer from %i to %i: \" % (minv,maxv)))\n",
    "\n",
    "min_value = 1\n",
    "max_value = 99\n",
    "\n",
    "secret_value = random.randint(min_value, max_value)\n",
    "\n",
    "guess = get_input(min_value, max_value)\n",
    "while secret_value != guess:\n",
    "    if guess < secret_value:\n",
    "        print \"guess is low\"\n",
    "        guess = get_input(min_value, max_value)\n",
    "    elif guess > secret_value:\n",
    "        print \"guess is high\"\n",
    "        guess = get_input(min_value, max_value)\n",
    "print \"you guessed it!\""
   ]
  },
  {
   "cell_type": "markdown",
   "metadata": {},
   "source": [
    "This code contains most of the commands we will need. Let's run over these one by one. First we load a Python module called \"random\". "
   ]
  },
  {
   "cell_type": "markdown",
   "metadata": {},
   "source": [
    "```python\n",
    "import random\n",
    "```"
   ]
  },
  {
   "cell_type": "markdown",
   "metadata": {},
   "source": [
    "You can think of a module as a collection of Python functions that perform specific tasks. The Python Standard Library is a large collection of modules that provides cross-platform implementations of common facilities such as access to the operating system, file I/O, network communication, and much more. The \"random\" module contains functions to generate random numbers. Further in the code we will use the function *randint()* of the \"random\" module. \n",
    "\n",
    "As a first tip: when you're about to program a function first check if it does not yet exist in some module. To check what a certain module offers you can use the *help()* command:"
   ]
  },
  {
   "cell_type": "code",
   "execution_count": 89,
   "metadata": {
    "collapsed": false
   },
   "outputs": [],
   "source": [
    "#help(random)"
   ]
  },
  {
   "cell_type": "markdown",
   "metadata": {},
   "source": [
    "What does the \"math\" module offer?"
   ]
  },
  {
   "cell_type": "code",
   "execution_count": null,
   "metadata": {
    "collapsed": true
   },
   "outputs": [],
   "source": []
  },
  {
   "cell_type": "markdown",
   "metadata": {},
   "source": [
    "Modules are typically packed as a Python packages: while a module is a single Python file, a package is a directory of Python files. We can access the modules in a package by using “dotted module names”. For example, the **sklearn** package contains different modules, each for a specific task: _e.g._, the **sklearn.preprocessing** implements functions for data scaling, centering, normalization, binarization, while the **sklearn.svm** includes Support Vector Machine algorithms. Import the \"LinearRegression\" module in the \"linear_model\" package in the \"sklearn\" package:"
   ]
  },
  {
   "cell_type": "code",
   "execution_count": null,
   "metadata": {
    "collapsed": true
   },
   "outputs": [],
   "source": []
  },
  {
   "cell_type": "markdown",
   "metadata": {},
   "source": [
    "Next we defined a function called *get_input()*:"
   ]
  },
  {
   "cell_type": "markdown",
   "metadata": {},
   "source": [
    "```python\n",
    "def get_input(minv,maxv):\n",
    "    return int(raw_input(\"Enter an integer from %i to %i: \" % (minv,maxv)))\n",
    "```    "
   ]
  },
  {
   "cell_type": "markdown",
   "metadata": {},
   "source": [
    "This function takes two arguments \"minv\" and \"maxv\" and asks the user to input a number from \"minv\" to \"maxv\". The type of this input will be a string that needs to be cased to an integer. This integer is then returned by the function.\n",
    "\n",
    "Then the guess game code declares two variables \"min_value\" and \"max_value\" by assigning them a value:"
   ]
  },
  {
   "cell_type": "markdown",
   "metadata": {},
   "source": [
    "```python\n",
    "min_value = 1\n",
    "max_value = 99\n",
    "```"
   ]
  },
  {
   "cell_type": "markdown",
   "metadata": {},
   "source": [
    "To print the value of a variable we can use the \"print\" command like this:"
   ]
  },
  {
   "cell_type": "code",
   "execution_count": 90,
   "metadata": {
    "collapsed": false
   },
   "outputs": [
    {
     "name": "stdout",
     "output_type": "stream",
     "text": [
      "min_value = 1\n"
     ]
    }
   ],
   "source": [
    "print \"min_value = %i\" % min_value"
   ]
  },
  {
   "cell_type": "markdown",
   "metadata": {},
   "source": [
    "We used %i in the format string to tell \"print\" that the variable is an integer. There exists also a float variable and a string variable:"
   ]
  },
  {
   "cell_type": "code",
   "execution_count": 91,
   "metadata": {
    "collapsed": false
   },
   "outputs": [
    {
     "name": "stdout",
     "output_type": "stream",
     "text": [
      "This is a decimal: 0.155000\n",
      "This is a string: hello world\n"
     ]
    }
   ],
   "source": [
    "print \"This is a decimal: %f\" % 0.155\n",
    "print \"This is a string: %s\" % \"hello world\""
   ]
  },
  {
   "cell_type": "markdown",
   "metadata": {},
   "source": [
    "Values of different types can be stored in a list:"
   ]
  },
  {
   "cell_type": "code",
   "execution_count": 92,
   "metadata": {
    "collapsed": false
   },
   "outputs": [
    {
     "name": "stdout",
     "output_type": "stream",
     "text": [
      "['Hello', 1, 2.948]\n"
     ]
    }
   ],
   "source": [
    "mylist = []\n",
    "mylist.append(\"Hello\")\n",
    "mylist.append(1)\n",
    "mylist.append(2.948)\n",
    "\n",
    "print mylist"
   ]
  },
  {
   "cell_type": "markdown",
   "metadata": {},
   "source": [
    "or a dictionary:"
   ]
  },
  {
   "cell_type": "code",
   "execution_count": 93,
   "metadata": {
    "collapsed": false
   },
   "outputs": [
    {
     "name": "stdout",
     "output_type": "stream",
     "text": [
      "{'A': 'T', 'X': '.', 'C': 'G', 'T': 'A', 'G': 'C'}\n"
     ]
    }
   ],
   "source": [
    "mydict = {}\n",
    "mydict[\"A\"] = \"T\"\n",
    "mydict[\"T\"] = \"A\"\n",
    "mydict[\"C\"] = \"G\"\n",
    "mydict[\"G\"] = \"C\"\n",
    "mydict[\"X\"] = \".\"\n",
    "\n",
    "print mydict"
   ]
  },
  {
   "cell_type": "markdown",
   "metadata": {},
   "source": [
    "We can work with lists and dictionaries as follows:"
   ]
  },
  {
   "cell_type": "code",
   "execution_count": 94,
   "metadata": {
    "collapsed": false
   },
   "outputs": [
    {
     "name": "stdout",
     "output_type": "stream",
     "text": [
      "Hello\n",
      "[1, 2.948]\n",
      "2.948\n",
      "T\n",
      "True\n",
      "True\n",
      "False\n"
     ]
    }
   ],
   "source": [
    "print mylist[0]\n",
    "print mylist[1:3]\n",
    "print mylist[-1]\n",
    "print mydict[\"A\"]\n",
    "print \"C\" in mydict\n",
    "print \"X\" in mydict\n",
    "print \".\" in mydict"
   ]
  },
  {
   "cell_type": "markdown",
   "metadata": {},
   "source": [
    "There are several ways to fill a list with values:"
   ]
  },
  {
   "cell_type": "code",
   "execution_count": 95,
   "metadata": {
    "collapsed": false
   },
   "outputs": [
    {
     "name": "stdout",
     "output_type": "stream",
     "text": [
      "[0, 0, 0, 0, 0, 0, 0, 0, 0, 0]\n",
      "[0, 3, 6, 9, 12, 15, 18]\n",
      "['gene0', 'gene1', 'gene2', 'gene3', 'gene4', 'gene5', 'gene6', 'gene7', 'gene8', 'gene9']\n",
      "['even', 'uneven', 'even', 'uneven', 'even', 'uneven', 'even']\n"
     ]
    }
   ],
   "source": [
    "mylist1 = [0]*10\n",
    "print mylist1\n",
    "mylist2 = range(0,20,3)\n",
    "print mylist2\n",
    "mylist3 = [\"gene%i\"%i for i in range(0,10)]\n",
    "print mylist3\n",
    "mylist4 = [\"even\" if (x%2)==0 else \"uneven\" for x in mylist2]\n",
    "print mylist4"
   ]
  },
  {
   "cell_type": "markdown",
   "metadata": {},
   "source": [
    "When we work with large data sets (or matrices) we will use the Python modules numpy and pandas to load and manipulate the data efficiently. Rather than storing the data in a Python list or dictionary we store the data in a multidimensional numpy array. Such an array has an equal amount of columns for each row and can only store numerical data. So if your data set contains numerical values these cannot be stored in a numpy array. This is how to create a 2D numpy array (notice how we renamed the imported module):"
   ]
  },
  {
   "cell_type": "code",
   "execution_count": 96,
   "metadata": {
    "collapsed": false
   },
   "outputs": [
    {
     "name": "stdout",
     "output_type": "stream",
     "text": [
      "[[ 0.  0.  0.]\n",
      " [ 0.  0.  0.]\n",
      " [ 0.  0.  0.]]\n",
      "[[7 1 9]\n",
      " [7 6 1]\n",
      " [7 4 1]]\n"
     ]
    }
   ],
   "source": [
    "import numpy as np\n",
    "\n",
    "nparray1 = np.zeros((3,3))\n",
    "print nparray1\n",
    "nparray2 = np.random.randint(0,10,size=(3,3))\n",
    "print nparray2"
   ]
  },
  {
   "cell_type": "markdown",
   "metadata": {},
   "source": [
    "For variable \"nparray2\" we called the *randint()* function of the numpy.random module. This function differs from the Python *randint()* function in the \"random\" module as it return numpy arrays of random numbers. We can access values in a 2D numpy array as follows:"
   ]
  },
  {
   "cell_type": "code",
   "execution_count": 97,
   "metadata": {
    "collapsed": false
   },
   "outputs": [
    {
     "name": "stdout",
     "output_type": "stream",
     "text": [
      "1\n",
      "[7 6 1]\n",
      "[1 6 4]\n",
      "[[1 9]\n",
      " [6 1]]\n"
     ]
    }
   ],
   "source": [
    "print nparray2[1,2]\n",
    "print nparray2[1,:]\n",
    "print nparray2[:,1]\n",
    "print nparray2[0:2,1:3]"
   ]
  },
  {
   "cell_type": "markdown",
   "metadata": {},
   "source": [
    "To also work with categorical data (strings) we will use the python module pandas that extends the functionality of numpy as we will see later.\n",
    "\n",
    "Next in the guess game code we call the function *randint()* in the \"random\" package that will return a random integer in [\"min_value\",\"max_value\"]. This random value is stored in the variable \"secret_value\":"
   ]
  },
  {
   "cell_type": "markdown",
   "metadata": {},
   "source": [
    "```python\n",
    "secret_value = random.randint(min_value, max_value)\n",
    "```"
   ]
  },
  {
   "cell_type": "code",
   "execution_count": 98,
   "metadata": {
    "collapsed": false
   },
   "outputs": [
    {
     "name": "stdout",
     "output_type": "stream",
     "text": [
      "Help on method randint in module random:\n",
      "\n",
      "randint(self, a, b) method of random.Random instance\n",
      "    Return random integer in range [a, b], including both end points.\n",
      "\n"
     ]
    }
   ],
   "source": [
    "help(random.randint)"
   ]
  },
  {
   "cell_type": "markdown",
   "metadata": {},
   "source": [
    "Then another variable called \"guess\" is set by calling the *get_input()* function that we defined above:"
   ]
  },
  {
   "cell_type": "markdown",
   "metadata": {},
   "source": [
    "```python\n",
    "guess = get_input(min_value, max_value)\n",
    "```"
   ]
  },
  {
   "cell_type": "markdown",
   "metadata": {},
   "source": [
    "Now \"guess\" contains the integer value that the user typed as a first guess. Next is to return feedback to the user until he or she entered the correct number. So we need a control flow statement such \"while\":"
   ]
  },
  {
   "cell_type": "markdown",
   "metadata": {},
   "source": [
    "```python\n",
    "while secret_value != guess:\n",
    "```"
   ]
  },
  {
   "cell_type": "markdown",
   "metadata": {},
   "source": [
    "If the user guessed incorrectly the code prints feedback to the screen:"
   ]
  },
  {
   "cell_type": "markdown",
   "metadata": {},
   "source": [
    "```python\n",
    "while secret_value != guess:\n",
    "    if guess < secret_value:\n",
    "        print \"guess is low\"\n",
    "        guess = get_input(min_value, max_value)\n",
    "    elif guess > secret_value:\n",
    "        print \"guess is high\"\n",
    "        guess = get_input(min_value, max_value)\n",
    "```        "
   ]
  },
  {
   "cell_type": "markdown",
   "metadata": {},
   "source": [
    "Here we made of the if-elif-else flow control statement. After providing feaadback the user is asked to provide another guess by calling the function *get_input()* again. Finally when the while-loop ends the user is provide a final feedback:"
   ]
  },
  {
   "cell_type": "markdown",
   "metadata": {},
   "source": [
    "```python\n",
    "print \"you guessed it!\"\n",
    "```"
   ]
  },
  {
   "cell_type": "markdown",
   "metadata": {},
   "source": [
    "Copy the guess game code in a the cell below. Change the code such that the user has a maximum of 5 guesses. Use the \"for\" control flow statement."
   ]
  },
  {
   "cell_type": "code",
   "execution_count": null,
   "metadata": {
    "collapsed": true
   },
   "outputs": [],
   "source": []
  },
  {
   "cell_type": "markdown",
   "metadata": {},
   "source": [
    "# Pandas"
   ]
  },
  {
   "cell_type": "markdown",
   "metadata": {},
   "source": [
    "Numpy is great. But it lacks a few things that are conducive to doing statisitcal analysis. By building on top of numyy, pandas provides\n",
    "\n",
    "- labeled arrays (each feature has a real name instead of a column number)\n",
    "- heterogenous data types within a data set\n",
    "- better missing data handling\n",
    "- convenient methods such as concatenation\n",
    "- more data types such as Categorical and Datetime\n",
    "\n",
    "The core data structure in pandas that will store our data sets in the pandas.DataFrame. This dataframe is designed to work efficiently with columns that will hold the different features. Each column in a DataFrame has a name. Let's create a DataFrame:\n"
   ]
  },
  {
   "cell_type": "code",
   "execution_count": 99,
   "metadata": {
    "collapsed": false
   },
   "outputs": [
    {
     "data": {
      "text/html": [
       "<div>\n",
       "<table border=\"1\" class=\"dataframe\">\n",
       "  <thead>\n",
       "    <tr style=\"text-align: right;\">\n",
       "      <th></th>\n",
       "      <th>A</th>\n",
       "      <th>B</th>\n",
       "      <th>C</th>\n",
       "    </tr>\n",
       "  </thead>\n",
       "  <tbody>\n",
       "    <tr>\n",
       "      <th>0</th>\n",
       "      <td>1</td>\n",
       "      <td>True</td>\n",
       "      <td>-0.336469</td>\n",
       "    </tr>\n",
       "    <tr>\n",
       "      <th>1</th>\n",
       "      <td>2</td>\n",
       "      <td>True</td>\n",
       "      <td>-0.750657</td>\n",
       "    </tr>\n",
       "    <tr>\n",
       "      <th>2</th>\n",
       "      <td>3</td>\n",
       "      <td>False</td>\n",
       "      <td>-0.806141</td>\n",
       "    </tr>\n",
       "  </tbody>\n",
       "</table>\n",
       "</div>"
      ],
      "text/plain": [
       "   A      B         C\n",
       "0  1   True -0.336469\n",
       "1  2   True -0.750657\n",
       "2  3  False -0.806141"
      ]
     },
     "execution_count": 99,
     "metadata": {},
     "output_type": "execute_result"
    }
   ],
   "source": [
    "import pandas as pd\n",
    "\n",
    "df = pd.DataFrame({'A': [1, 2, 3], 'B': [True, True, False],\n",
    "                   'C': np.random.randn(3)})\n",
    "\n",
    "df"
   ]
  },
  {
   "cell_type": "markdown",
   "metadata": {},
   "source": [
    "We have three columns (features): A, B and C. We can access columns easily:"
   ]
  },
  {
   "cell_type": "code",
   "execution_count": 100,
   "metadata": {
    "collapsed": false
   },
   "outputs": [
    {
     "name": "stdout",
     "output_type": "stream",
     "text": [
      "0   -0.336469\n",
      "1   -0.750657\n",
      "2   -0.806141\n",
      "Name: C, dtype: float64\n"
     ]
    },
    {
     "data": {
      "text/html": [
       "<div>\n",
       "<table border=\"1\" class=\"dataframe\">\n",
       "  <thead>\n",
       "    <tr style=\"text-align: right;\">\n",
       "      <th></th>\n",
       "      <th>A</th>\n",
       "      <th>B</th>\n",
       "    </tr>\n",
       "  </thead>\n",
       "  <tbody>\n",
       "    <tr>\n",
       "      <th>0</th>\n",
       "      <td>1</td>\n",
       "      <td>True</td>\n",
       "    </tr>\n",
       "    <tr>\n",
       "      <th>1</th>\n",
       "      <td>2</td>\n",
       "      <td>True</td>\n",
       "    </tr>\n",
       "    <tr>\n",
       "      <th>2</th>\n",
       "      <td>3</td>\n",
       "      <td>False</td>\n",
       "    </tr>\n",
       "  </tbody>\n",
       "</table>\n",
       "</div>"
      ],
      "text/plain": [
       "   A      B\n",
       "0  1   True\n",
       "1  2   True\n",
       "2  3  False"
      ]
     },
     "execution_count": 100,
     "metadata": {},
     "output_type": "execute_result"
    }
   ],
   "source": [
    "print df['C']\n",
    "\n",
    "cols = ['A','B']\n",
    "df[cols]"
   ]
  },
  {
   "cell_type": "markdown",
   "metadata": {},
   "source": [
    "You can acces a pandas DataFrame also using row and column numbers just as with numpy arrays using .iloc[]:"
   ]
  },
  {
   "cell_type": "code",
   "execution_count": 101,
   "metadata": {
    "collapsed": false
   },
   "outputs": [
    {
     "data": {
      "text/plain": [
       "0    True\n",
       "1    True\n",
       "Name: B, dtype: bool"
      ]
     },
     "execution_count": 101,
     "metadata": {},
     "output_type": "execute_result"
    }
   ],
   "source": [
    "df.iloc[:2,1]"
   ]
  },
  {
   "cell_type": "markdown",
   "metadata": {},
   "source": [
    "This is how we can create an empty pandas dataframe and add feature columns to it (remark that each feature column should have the same number of rows):"
   ]
  },
  {
   "cell_type": "code",
   "execution_count": 102,
   "metadata": {
    "collapsed": false
   },
   "outputs": [
    {
     "data": {
      "text/html": [
       "<div>\n",
       "<table border=\"1\" class=\"dataframe\">\n",
       "  <thead>\n",
       "    <tr style=\"text-align: right;\">\n",
       "      <th></th>\n",
       "      <th>feature1</th>\n",
       "      <th>feature2</th>\n",
       "      <th>feature3</th>\n",
       "    </tr>\n",
       "  </thead>\n",
       "  <tbody>\n",
       "    <tr>\n",
       "      <th>0</th>\n",
       "      <td>0</td>\n",
       "      <td>1</td>\n",
       "      <td>2</td>\n",
       "    </tr>\n",
       "    <tr>\n",
       "      <th>1</th>\n",
       "      <td>0</td>\n",
       "      <td>1</td>\n",
       "      <td>2</td>\n",
       "    </tr>\n",
       "    <tr>\n",
       "      <th>2</th>\n",
       "      <td>0</td>\n",
       "      <td>1</td>\n",
       "      <td>2</td>\n",
       "    </tr>\n",
       "    <tr>\n",
       "      <th>3</th>\n",
       "      <td>0</td>\n",
       "      <td>1</td>\n",
       "      <td>2</td>\n",
       "    </tr>\n",
       "    <tr>\n",
       "      <th>4</th>\n",
       "      <td>0</td>\n",
       "      <td>1</td>\n",
       "      <td>2</td>\n",
       "    </tr>\n",
       "    <tr>\n",
       "      <th>5</th>\n",
       "      <td>0</td>\n",
       "      <td>1</td>\n",
       "      <td>2</td>\n",
       "    </tr>\n",
       "  </tbody>\n",
       "</table>\n",
       "</div>"
      ],
      "text/plain": [
       "   feature1  feature2  feature3\n",
       "0         0         1         2\n",
       "1         0         1         2\n",
       "2         0         1         2\n",
       "3         0         1         2\n",
       "4         0         1         2\n",
       "5         0         1         2"
      ]
     },
     "execution_count": 102,
     "metadata": {},
     "output_type": "execute_result"
    }
   ],
   "source": [
    "df = pd.DataFrame()\n",
    "df['feature1'] = [0]*20\n",
    "df['feature2'] = [1]*20\n",
    "df['feature3'] = [2]*20\n",
    "\n",
    "df.head(6)"
   ]
  },
  {
   "cell_type": "markdown",
   "metadata": {},
   "source": [
    "The *.head(n)* is a function of the dataframe that prints the top-n rows. To get info about a pandas dataframe we can use the following commands:"
   ]
  },
  {
   "cell_type": "code",
   "execution_count": 103,
   "metadata": {
    "collapsed": false
   },
   "outputs": [
    {
     "data": {
      "text/plain": [
       "(20, 3)"
      ]
     },
     "execution_count": 103,
     "metadata": {},
     "output_type": "execute_result"
    }
   ],
   "source": [
    "df.shape"
   ]
  },
  {
   "cell_type": "code",
   "execution_count": 104,
   "metadata": {
    "collapsed": false
   },
   "outputs": [
    {
     "data": {
      "text/html": [
       "<div>\n",
       "<table border=\"1\" class=\"dataframe\">\n",
       "  <thead>\n",
       "    <tr style=\"text-align: right;\">\n",
       "      <th></th>\n",
       "      <th>feature1</th>\n",
       "      <th>feature2</th>\n",
       "      <th>feature3</th>\n",
       "    </tr>\n",
       "  </thead>\n",
       "  <tbody>\n",
       "    <tr>\n",
       "      <th>count</th>\n",
       "      <td>20.0</td>\n",
       "      <td>20.0</td>\n",
       "      <td>20.0</td>\n",
       "    </tr>\n",
       "    <tr>\n",
       "      <th>mean</th>\n",
       "      <td>0.0</td>\n",
       "      <td>1.0</td>\n",
       "      <td>2.0</td>\n",
       "    </tr>\n",
       "    <tr>\n",
       "      <th>std</th>\n",
       "      <td>0.0</td>\n",
       "      <td>0.0</td>\n",
       "      <td>0.0</td>\n",
       "    </tr>\n",
       "    <tr>\n",
       "      <th>min</th>\n",
       "      <td>0.0</td>\n",
       "      <td>1.0</td>\n",
       "      <td>2.0</td>\n",
       "    </tr>\n",
       "    <tr>\n",
       "      <th>25%</th>\n",
       "      <td>0.0</td>\n",
       "      <td>1.0</td>\n",
       "      <td>2.0</td>\n",
       "    </tr>\n",
       "    <tr>\n",
       "      <th>50%</th>\n",
       "      <td>0.0</td>\n",
       "      <td>1.0</td>\n",
       "      <td>2.0</td>\n",
       "    </tr>\n",
       "    <tr>\n",
       "      <th>75%</th>\n",
       "      <td>0.0</td>\n",
       "      <td>1.0</td>\n",
       "      <td>2.0</td>\n",
       "    </tr>\n",
       "    <tr>\n",
       "      <th>max</th>\n",
       "      <td>0.0</td>\n",
       "      <td>1.0</td>\n",
       "      <td>2.0</td>\n",
       "    </tr>\n",
       "  </tbody>\n",
       "</table>\n",
       "</div>"
      ],
      "text/plain": [
       "       feature1  feature2  feature3\n",
       "count      20.0      20.0      20.0\n",
       "mean        0.0       1.0       2.0\n",
       "std         0.0       0.0       0.0\n",
       "min         0.0       1.0       2.0\n",
       "25%         0.0       1.0       2.0\n",
       "50%         0.0       1.0       2.0\n",
       "75%         0.0       1.0       2.0\n",
       "max         0.0       1.0       2.0"
      ]
     },
     "execution_count": 104,
     "metadata": {},
     "output_type": "execute_result"
    }
   ],
   "source": [
    "df.describe()"
   ]
  },
  {
   "cell_type": "markdown",
   "metadata": {},
   "source": [
    "Create a pandas dataframe with two features: a feature \"A\" that has 10 rows with values from 1 to 10 and a feature \"B\" that has 10 rows with random integers in [5,15]. "
   ]
  },
  {
   "cell_type": "code",
   "execution_count": null,
   "metadata": {
    "collapsed": true
   },
   "outputs": [],
   "source": []
  },
  {
   "cell_type": "markdown",
   "metadata": {},
   "source": [
    "Typically we will create a pandas DataFrame by loading the data set from a file on disk. For this we can use the *read_csv()* function. This function can take many arguments, for now will stick to one called \"sep\" which defines the symbol that is used to seperate the columns in the data set file. This data set file needs to have a header line that contains the names of the columns (or features). Let's load the melanoma data set:"
   ]
  },
  {
   "cell_type": "code",
   "execution_count": 105,
   "metadata": {
    "collapsed": false
   },
   "outputs": [
    {
     "data": {
      "text/html": [
       "<div>\n",
       "<table border=\"1\" class=\"dataframe\">\n",
       "  <thead>\n",
       "    <tr style=\"text-align: right;\">\n",
       "      <th></th>\n",
       "      <th>Eccentricity</th>\n",
       "      <th>Solidity</th>\n",
       "      <th>label</th>\n",
       "    </tr>\n",
       "  </thead>\n",
       "  <tbody>\n",
       "    <tr>\n",
       "      <th>0</th>\n",
       "      <td>-0.598720</td>\n",
       "      <td>-2.863001</td>\n",
       "      <td>0</td>\n",
       "    </tr>\n",
       "    <tr>\n",
       "      <th>1</th>\n",
       "      <td>-0.518611</td>\n",
       "      <td>0.126108</td>\n",
       "      <td>0</td>\n",
       "    </tr>\n",
       "    <tr>\n",
       "      <th>2</th>\n",
       "      <td>-1.843886</td>\n",
       "      <td>-2.163015</td>\n",
       "      <td>0</td>\n",
       "    </tr>\n",
       "    <tr>\n",
       "      <th>3</th>\n",
       "      <td>-0.289294</td>\n",
       "      <td>-1.502928</td>\n",
       "      <td>0</td>\n",
       "    </tr>\n",
       "    <tr>\n",
       "      <th>4</th>\n",
       "      <td>-1.177039</td>\n",
       "      <td>-2.112436</td>\n",
       "      <td>0</td>\n",
       "    </tr>\n",
       "  </tbody>\n",
       "</table>\n",
       "</div>"
      ],
      "text/plain": [
       "   Eccentricity  Solidity  label\n",
       "0     -0.598720 -2.863001      0\n",
       "1     -0.518611  0.126108      0\n",
       "2     -1.843886 -2.163015      0\n",
       "3     -0.289294 -1.502928      0\n",
       "4     -1.177039 -2.112436      0"
      ]
     },
     "execution_count": 105,
     "metadata": {},
     "output_type": "execute_result"
    }
   ],
   "source": [
    "dataset = pd.read_csv(\"../../0_introduction/melanoma.csv\",sep=\"\\t\")\n",
    "\n",
    "dataset.head(5)"
   ]
  },
  {
   "cell_type": "markdown",
   "metadata": {},
   "source": [
    "Pandas allows for a very efficient manipulation of the data set:"
   ]
  },
  {
   "cell_type": "code",
   "execution_count": 106,
   "metadata": {
    "collapsed": false
   },
   "outputs": [
    {
     "data": {
      "text/html": [
       "<div>\n",
       "<table border=\"1\" class=\"dataframe\">\n",
       "  <thead>\n",
       "    <tr style=\"text-align: right;\">\n",
       "      <th></th>\n",
       "      <th>Eccentricity</th>\n",
       "      <th>Solidity</th>\n",
       "      <th>label</th>\n",
       "    </tr>\n",
       "  </thead>\n",
       "  <tbody>\n",
       "    <tr>\n",
       "      <th>0</th>\n",
       "      <td>-0.598720</td>\n",
       "      <td>7.136999</td>\n",
       "      <td>0</td>\n",
       "    </tr>\n",
       "    <tr>\n",
       "      <th>1</th>\n",
       "      <td>-0.518611</td>\n",
       "      <td>10.126108</td>\n",
       "      <td>0</td>\n",
       "    </tr>\n",
       "    <tr>\n",
       "      <th>2</th>\n",
       "      <td>-1.843886</td>\n",
       "      <td>7.836985</td>\n",
       "      <td>0</td>\n",
       "    </tr>\n",
       "    <tr>\n",
       "      <th>3</th>\n",
       "      <td>-0.289294</td>\n",
       "      <td>8.497072</td>\n",
       "      <td>0</td>\n",
       "    </tr>\n",
       "    <tr>\n",
       "      <th>4</th>\n",
       "      <td>-1.177039</td>\n",
       "      <td>7.887564</td>\n",
       "      <td>0</td>\n",
       "    </tr>\n",
       "  </tbody>\n",
       "</table>\n",
       "</div>"
      ],
      "text/plain": [
       "   Eccentricity   Solidity  label\n",
       "0     -0.598720   7.136999      0\n",
       "1     -0.518611  10.126108      0\n",
       "2     -1.843886   7.836985      0\n",
       "3     -0.289294   8.497072      0\n",
       "4     -1.177039   7.887564      0"
      ]
     },
     "execution_count": 106,
     "metadata": {},
     "output_type": "execute_result"
    }
   ],
   "source": [
    "dataset['Solidity'] += 10\n",
    "dataset.head(5)"
   ]
  },
  {
   "cell_type": "code",
   "execution_count": 107,
   "metadata": {
    "collapsed": false
   },
   "outputs": [
    {
     "data": {
      "text/html": [
       "<div>\n",
       "<table border=\"1\" class=\"dataframe\">\n",
       "  <thead>\n",
       "    <tr style=\"text-align: right;\">\n",
       "      <th></th>\n",
       "      <th>Eccentricity</th>\n",
       "      <th>Solidity</th>\n",
       "      <th>label</th>\n",
       "      <th>new feature 1</th>\n",
       "    </tr>\n",
       "  </thead>\n",
       "  <tbody>\n",
       "    <tr>\n",
       "      <th>0</th>\n",
       "      <td>-0.598720</td>\n",
       "      <td>7.136999</td>\n",
       "      <td>0</td>\n",
       "      <td>1</td>\n",
       "    </tr>\n",
       "    <tr>\n",
       "      <th>1</th>\n",
       "      <td>-0.518611</td>\n",
       "      <td>10.126108</td>\n",
       "      <td>0</td>\n",
       "      <td>0</td>\n",
       "    </tr>\n",
       "    <tr>\n",
       "      <th>2</th>\n",
       "      <td>-1.843886</td>\n",
       "      <td>7.836985</td>\n",
       "      <td>0</td>\n",
       "      <td>1</td>\n",
       "    </tr>\n",
       "    <tr>\n",
       "      <th>3</th>\n",
       "      <td>-0.289294</td>\n",
       "      <td>8.497072</td>\n",
       "      <td>0</td>\n",
       "      <td>0</td>\n",
       "    </tr>\n",
       "    <tr>\n",
       "      <th>4</th>\n",
       "      <td>-1.177039</td>\n",
       "      <td>7.887564</td>\n",
       "      <td>0</td>\n",
       "      <td>1</td>\n",
       "    </tr>\n",
       "  </tbody>\n",
       "</table>\n",
       "</div>"
      ],
      "text/plain": [
       "   Eccentricity   Solidity  label  new feature 1\n",
       "0     -0.598720   7.136999      0              1\n",
       "1     -0.518611  10.126108      0              0\n",
       "2     -1.843886   7.836985      0              1\n",
       "3     -0.289294   8.497072      0              0\n",
       "4     -1.177039   7.887564      0              1"
      ]
     },
     "execution_count": 107,
     "metadata": {},
     "output_type": "execute_result"
    }
   ],
   "source": [
    "dataset[\"new feature 1\"] = [1 if (i%2)==0 else 0 for i in range(len(dataset))]\n",
    "dataset.head(5)"
   ]
  },
  {
   "cell_type": "code",
   "execution_count": 108,
   "metadata": {
    "collapsed": false
   },
   "outputs": [
    {
     "data": {
      "text/html": [
       "<div>\n",
       "<table border=\"1\" class=\"dataframe\">\n",
       "  <thead>\n",
       "    <tr style=\"text-align: right;\">\n",
       "      <th></th>\n",
       "      <th>Eccentricity</th>\n",
       "      <th>Solidity</th>\n",
       "      <th>label</th>\n",
       "      <th>new feature 1</th>\n",
       "      <th>new feature 2</th>\n",
       "    </tr>\n",
       "  </thead>\n",
       "  <tbody>\n",
       "    <tr>\n",
       "      <th>0</th>\n",
       "      <td>-0.598720</td>\n",
       "      <td>7.136999</td>\n",
       "      <td>0</td>\n",
       "      <td>1</td>\n",
       "      <td>-4.273068</td>\n",
       "    </tr>\n",
       "    <tr>\n",
       "      <th>1</th>\n",
       "      <td>-0.518611</td>\n",
       "      <td>10.126108</td>\n",
       "      <td>0</td>\n",
       "      <td>0</td>\n",
       "      <td>-5.251507</td>\n",
       "    </tr>\n",
       "    <tr>\n",
       "      <th>2</th>\n",
       "      <td>-1.843886</td>\n",
       "      <td>7.836985</td>\n",
       "      <td>0</td>\n",
       "      <td>1</td>\n",
       "      <td>-14.450505</td>\n",
       "    </tr>\n",
       "    <tr>\n",
       "      <th>3</th>\n",
       "      <td>-0.289294</td>\n",
       "      <td>8.497072</td>\n",
       "      <td>0</td>\n",
       "      <td>0</td>\n",
       "      <td>-2.458154</td>\n",
       "    </tr>\n",
       "    <tr>\n",
       "      <th>4</th>\n",
       "      <td>-1.177039</td>\n",
       "      <td>7.887564</td>\n",
       "      <td>0</td>\n",
       "      <td>1</td>\n",
       "      <td>-9.283974</td>\n",
       "    </tr>\n",
       "  </tbody>\n",
       "</table>\n",
       "</div>"
      ],
      "text/plain": [
       "   Eccentricity   Solidity  label  new feature 1  new feature 2\n",
       "0     -0.598720   7.136999      0              1      -4.273068\n",
       "1     -0.518611  10.126108      0              0      -5.251507\n",
       "2     -1.843886   7.836985      0              1     -14.450505\n",
       "3     -0.289294   8.497072      0              0      -2.458154\n",
       "4     -1.177039   7.887564      0              1      -9.283974"
      ]
     },
     "execution_count": 108,
     "metadata": {},
     "output_type": "execute_result"
    }
   ],
   "source": [
    "dataset[\"new feature 2\"] = dataset[\"Eccentricity\"] * dataset[\"Solidity\"]\n",
    "dataset.head(5)"
   ]
  },
  {
   "cell_type": "code",
   "execution_count": 109,
   "metadata": {
    "collapsed": false
   },
   "outputs": [
    {
     "name": "stdout",
     "output_type": "stream",
     "text": [
      "(600, 5)\n",
      "(301, 5)\n"
     ]
    },
    {
     "data": {
      "text/html": [
       "<div>\n",
       "<table border=\"1\" class=\"dataframe\">\n",
       "  <thead>\n",
       "    <tr style=\"text-align: right;\">\n",
       "      <th></th>\n",
       "      <th>Eccentricity</th>\n",
       "      <th>Solidity</th>\n",
       "      <th>label</th>\n",
       "      <th>new feature 1</th>\n",
       "      <th>new feature 2</th>\n",
       "    </tr>\n",
       "  </thead>\n",
       "  <tbody>\n",
       "    <tr>\n",
       "      <th>11</th>\n",
       "      <td>-0.381721</td>\n",
       "      <td>9.586472</td>\n",
       "      <td>1</td>\n",
       "      <td>0</td>\n",
       "      <td>-3.659354</td>\n",
       "    </tr>\n",
       "    <tr>\n",
       "      <th>251</th>\n",
       "      <td>-1.133536</td>\n",
       "      <td>9.483692</td>\n",
       "      <td>1</td>\n",
       "      <td>0</td>\n",
       "      <td>-10.750109</td>\n",
       "    </tr>\n",
       "    <tr>\n",
       "      <th>295</th>\n",
       "      <td>-0.673477</td>\n",
       "      <td>10.752767</td>\n",
       "      <td>1</td>\n",
       "      <td>0</td>\n",
       "      <td>-7.241745</td>\n",
       "    </tr>\n",
       "    <tr>\n",
       "      <th>300</th>\n",
       "      <td>1.815978</td>\n",
       "      <td>7.725954</td>\n",
       "      <td>1</td>\n",
       "      <td>1</td>\n",
       "      <td>14.030160</td>\n",
       "    </tr>\n",
       "    <tr>\n",
       "      <th>301</th>\n",
       "      <td>0.365680</td>\n",
       "      <td>11.404853</td>\n",
       "      <td>1</td>\n",
       "      <td>0</td>\n",
       "      <td>4.170527</td>\n",
       "    </tr>\n",
       "  </tbody>\n",
       "</table>\n",
       "</div>"
      ],
      "text/plain": [
       "     Eccentricity   Solidity  label  new feature 1  new feature 2\n",
       "11      -0.381721   9.586472      1              0      -3.659354\n",
       "251     -1.133536   9.483692      1              0     -10.750109\n",
       "295     -0.673477  10.752767      1              0      -7.241745\n",
       "300      1.815978   7.725954      1              1      14.030160\n",
       "301      0.365680  11.404853      1              0       4.170527"
      ]
     },
     "execution_count": 109,
     "metadata": {},
     "output_type": "execute_result"
    }
   ],
   "source": [
    "newdataset = dataset[dataset['label'] == 1]\n",
    "\n",
    "print dataset.shape\n",
    "print newdataset.shape\n",
    "\n",
    "newdataset.head(5)"
   ]
  },
  {
   "cell_type": "code",
   "execution_count": 110,
   "metadata": {
    "collapsed": false
   },
   "outputs": [
    {
     "name": "stdout",
     "output_type": "stream",
     "text": [
      "[3 4 6 3 8 0 2 6 2 1 3 8 9 0 1 9 1 1 2 6 1 9 0 6 2 0 1 7 6 5 8 8 6 3 5 0 8\n",
      " 3 9 2 4 5 9 5 7 2 6 6 8 1 6 3 1 5 1 7 9 1 6 2 5 7 1 7 4 9 0 5 3 6 6 3 1 5\n",
      " 2 9 0 1 7 8 3 9 4 4 0 4 6 2 7 5 2 2 1 2 6 4 4 9 6 4 4 0 2 0 0 1 6 3 8 1 2\n",
      " 8 7 6 1 2 3 7 4 8 8 5 3 2 5 2 6 5 8 4 2 1 8 4 5 3 2 9 5 5 9 7 8 7 1 5 2 0\n",
      " 8 1 8 5 1 6 8 6 1 6 2 4 3 1 6 3 2 4 5 6 4 1 9 7 4 3 3 3 4 6 2 3 9 7 0 6 3\n",
      " 4 8 3 7 3 3 4 2 9 9 5 6 9 5 0 6 9 6 2 1 4 0 4 2 6 3 1 8 1 4 6 3 1 0 2 7 5\n",
      " 5 6 5 2 5 1 9 4 2 2 7 4 9 1 2 9 0 0 2 3 3 7 9 1 6 0 0 8 3 3 5 1 6 6 7 7 9\n",
      " 3 9 4 6 3 2 1 7 8 7 3 1 2 0 0 3 1 4 2 2 7 8 5 5 7 1 0 0 8 1 9 7 4 7 1 5 8\n",
      " 4 0 9 0 1 4 2 8 2 5 2 4 0 6 4 5 6 9 9 3 3 0 2 8 1 4 8 9 8 1 2 7 1 8 8 4 5\n",
      " 9 5 7 7 3 7 0 2 4 7 3 9 5 2 1 4 9 2 4 3 9 5 7 9 9 6 4 3 0 9 1 1 1 1 8 3 5\n",
      " 3 3 6 8 1 0 8 4 5 8 4 9 9 2 9 1 9 1 4 6 3 5 4 5 0 4 5 1 1 9 5 3 1 6 9 2 8\n",
      " 3 7 1 7 6 3 7 2 3 4 4 6 3 6 3 9 9 7 2 0 5 8 0 6 8 0 8 7 1 8 0 0 4 7 1 8 8\n",
      " 6 8 3 4 7 4 0 1 2 4 4 3 3 4 1 5 2 2 9 6 4 0 4 7 2 3 7 8 4 5 0 0 4 5 1 2 3\n",
      " 0 3 6 2 6 8 1 9 7 2 4 4 4 7 5 4 2 8 6 3 1 2 4 7 0 8 1 7 9 3 7 8 9 0 1 7 4\n",
      " 8 5 6 2 3 6 8 5 4 6 2 7 1 5 7 5 9 1 0 2 1 3 3 3 1 0 8 2 6 3 0 5 4 9 7 7 7\n",
      " 3 4 8 3 9 8 1 3 5 4 5 7 3 0 7 2 8 1 6 6 7 3 3 5 6 0 4 5 4 9 5 5 2 7 1 2 3\n",
      " 7 5 6 5 3 4 7 9]\n",
      "(600, 5)\n",
      "(37, 5)\n"
     ]
    },
    {
     "data": {
      "text/html": [
       "<div>\n",
       "<table border=\"1\" class=\"dataframe\">\n",
       "  <thead>\n",
       "    <tr style=\"text-align: right;\">\n",
       "      <th></th>\n",
       "      <th>Eccentricity</th>\n",
       "      <th>Solidity</th>\n",
       "      <th>label</th>\n",
       "      <th>new feature 1</th>\n",
       "      <th>new feature 2</th>\n",
       "    </tr>\n",
       "  </thead>\n",
       "  <tbody>\n",
       "    <tr>\n",
       "      <th>251</th>\n",
       "      <td>-1.133536</td>\n",
       "      <td>9.483692</td>\n",
       "      <td>1</td>\n",
       "      <td>0</td>\n",
       "      <td>-10.750109</td>\n",
       "    </tr>\n",
       "    <tr>\n",
       "      <th>315</th>\n",
       "      <td>1.366848</td>\n",
       "      <td>10.624289</td>\n",
       "      <td>1</td>\n",
       "      <td>0</td>\n",
       "      <td>14.521792</td>\n",
       "    </tr>\n",
       "    <tr>\n",
       "      <th>316</th>\n",
       "      <td>2.659699</td>\n",
       "      <td>8.775289</td>\n",
       "      <td>1</td>\n",
       "      <td>1</td>\n",
       "      <td>23.339631</td>\n",
       "    </tr>\n",
       "    <tr>\n",
       "      <th>337</th>\n",
       "      <td>-0.532759</td>\n",
       "      <td>13.452090</td>\n",
       "      <td>1</td>\n",
       "      <td>0</td>\n",
       "      <td>-7.166719</td>\n",
       "    </tr>\n",
       "    <tr>\n",
       "      <th>343</th>\n",
       "      <td>0.984697</td>\n",
       "      <td>10.970809</td>\n",
       "      <td>1</td>\n",
       "      <td>0</td>\n",
       "      <td>10.802921</td>\n",
       "    </tr>\n",
       "  </tbody>\n",
       "</table>\n",
       "</div>"
      ],
      "text/plain": [
       "     Eccentricity   Solidity  label  new feature 1  new feature 2\n",
       "251     -1.133536   9.483692      1              0     -10.750109\n",
       "315      1.366848  10.624289      1              0      14.521792\n",
       "316      2.659699   8.775289      1              1      23.339631\n",
       "337     -0.532759  13.452090      1              0      -7.166719\n",
       "343      0.984697  10.970809      1              0      10.802921"
      ]
     },
     "execution_count": 110,
     "metadata": {},
     "output_type": "execute_result"
    }
   ],
   "source": [
    "random_numbers = np.random.randint(0,10,len(dataset))\n",
    "\n",
    "print random_numbers\n",
    "\n",
    "newdataset = dataset[(dataset['label'] == 1) & (random_numbers == 3)]\n",
    "\n",
    "print dataset.shape\n",
    "print newdataset.shape\n",
    "\n",
    "newdataset.head(5)"
   ]
  },
  {
   "cell_type": "code",
   "execution_count": 111,
   "metadata": {
    "collapsed": false
   },
   "outputs": [
    {
     "name": "stdout",
     "output_type": "stream",
     "text": [
      "0    0\n",
      "1    0\n",
      "2    0\n",
      "3    0\n",
      "4    0\n",
      "Name: label, dtype: int64\n",
      "   Eccentricity   Solidity  new feature 1  new feature 2\n",
      "0     -0.598720   7.136999              1      -4.273068\n",
      "1     -0.518611  10.126108              0      -5.251507\n",
      "2     -1.843886   7.836985              1     -14.450505\n",
      "3     -0.289294   8.497072              0      -2.458154\n",
      "4     -1.177039   7.887564              1      -9.283974\n",
      "   Eccentricity   Solidity  label  new feature 1  new feature 2\n",
      "0     -0.598720   7.136999      0              1      -4.273068\n",
      "1     -0.518611  10.126108      0              0      -5.251507\n",
      "2     -1.843886   7.836985      0              1     -14.450505\n",
      "3     -0.289294   8.497072      0              0      -2.458154\n",
      "4     -1.177039   7.887564      0              1      -9.283974\n"
     ]
    }
   ],
   "source": [
    "tmp = dataset.copy()\n",
    "\n",
    "label = tmp.pop('label')\n",
    "print label.head(5)\n",
    "print tmp.head(5)\n",
    "print dataset.head(5)"
   ]
  },
  {
   "cell_type": "code",
   "execution_count": 112,
   "metadata": {
    "collapsed": false
   },
   "outputs": [
    {
     "data": {
      "text/plain": [
       "1    301\n",
       "0    299\n",
       "Name: label, dtype: int64"
      ]
     },
     "execution_count": 112,
     "metadata": {},
     "output_type": "execute_result"
    }
   ],
   "source": [
    "label.value_counts()"
   ]
  },
  {
   "cell_type": "markdown",
   "metadata": {},
   "source": [
    "# Plotting"
   ]
  },
  {
   "cell_type": "markdown",
   "metadata": {},
   "source": [
    "There are many Python modules that allow you to plot your data with ease. In the course we will mainly use the Python \"seaborn\" module to create our graphs. However, the core Python module for plotting is \"matplotlib\" and most of the other plotting modules build on top of \"matplotlib\" so we will need to know some basics of matplotlib as well.\n",
    "\n",
    "But first let's import \"seaborn\" and plot a nice histogram of the \"Eccentricity\" feature in the melanoma data set:"
   ]
  },
  {
   "cell_type": "code",
   "execution_count": 113,
   "metadata": {
    "collapsed": false,
    "scrolled": true
   },
   "outputs": [
    {
     "data": {
      "image/png": "[encoded data removed]",
      "text/plain": [
       "<matplotlib.figure.Figure at 0x7fb8702240d0>"
      ]
     },
     "metadata": {},
     "output_type": "display_data"
    }
   ],
   "source": [
    "%matplotlib inline\n",
    "from matplotlib import pyplot as plt\n",
    "\n",
    "import seaborn as sns\n",
    "\n",
    "plt.figure(figsize=(6,6))\n",
    "sns.distplot(dataset['Eccentricity'], color=\"b\")\n",
    "plt.show()"
   ]
  },
  {
   "cell_type": "markdown",
   "metadata": {},
   "source": [
    "That was easy. After importing the \"seaborn\" module we call the *figure()* function in the \"matplotlib.pyplot\" module to set the size of the plot. Then we call the function *distplot()* of the \"seaborn\" module to create a histogram. And finally we tell matplotlib to plot the figure. Get more info about *distplot()*: "
   ]
  },
  {
   "cell_type": "code",
   "execution_count": 114,
   "metadata": {
    "collapsed": true
   },
   "outputs": [],
   "source": [
    "#help(sns.distplot)"
   ]
  },
  {
   "cell_type": "markdown",
   "metadata": {},
   "source": [
    "Most plotting functions will have many options that set how the plot will look like. For instance if we create a scatter plot using the $lmplot()$ function in the \"seaborn\" module:"
   ]
  },
  {
   "cell_type": "code",
   "execution_count": 115,
   "metadata": {
    "collapsed": false
   },
   "outputs": [
    {
     "data": {
      "image/png": "[encoded data removed]",
      "text/plain": [
       "<matplotlib.figure.Figure at 0x7fb864769190>"
      ]
     },
     "metadata": {},
     "output_type": "display_data"
    }
   ],
   "source": [
    "sns.lmplot(x=\"Eccentricity\", y=\"Solidity\", data=dataset, \n",
    "           fit_reg=False, size=5.5, scatter_kws={\"s\": 80})\n",
    "plt.show()"
   ]
  },
  {
   "cell_type": "markdown",
   "metadata": {},
   "source": [
    "we have set additional arguments such as \"size\" that defines the size of the plot and the \"scatter_kws\" argument that contains settings understood by the \"matplotlib\" module such as \"s\" that sets the size of the markers that represent the data points.\n",
    "\n",
    "Other interesting arguments of $lmplot()$ are \"hue\", \"col\" and \"row\":"
   ]
  },
  {
   "cell_type": "code",
   "execution_count": 116,
   "metadata": {
    "collapsed": false
   },
   "outputs": [
    {
     "data": {
      "image/png": "[encoded data removed]",
      "text/plain": [
       "<matplotlib.figure.Figure at 0x7fb86485ba50>"
      ]
     },
     "metadata": {},
     "output_type": "display_data"
    }
   ],
   "source": [
    "sns.lmplot(x=\"Eccentricity\", y=\"Solidity\", data=dataset, hue=\"label\",\n",
    "           fit_reg=False, size=5.5, scatter_kws={\"s\": 80})\n",
    "plt.show()"
   ]
  },
  {
   "cell_type": "code",
   "execution_count": 134,
   "metadata": {
    "collapsed": false
   },
   "outputs": [
    {
     "data": {
      "image/png": "[encoded data removed]",
      "text/plain": [
       "<matplotlib.figure.Figure at 0x7fb86288a790>"
      ]
     },
     "metadata": {},
     "output_type": "display_data"
    }
   ],
   "source": [
    "sns.lmplot(x=\"Eccentricity\", y=\"Solidity\", data=dataset, row=\"label\", col=\"new feature 1\",\n",
    "           fit_reg=False, size=3.5, scatter_kws={\"s\": 20})\n",
    "plt.show()"
   ]
  },
  {
   "cell_type": "markdown",
   "metadata": {},
   "source": [
    "Sometimes it can be useful to draw a point or a line on a plot:"
   ]
  },
  {
   "cell_type": "code",
   "execution_count": 140,
   "metadata": {
    "collapsed": false
   },
   "outputs": [
    {
     "data": {
      "image/png": "[encoded data removed]",
      "text/plain": [
       "<matplotlib.figure.Figure at 0x7fb86088c390>"
      ]
     },
     "metadata": {},
     "output_type": "display_data"
    }
   ],
   "source": [
    "sns.lmplot(x=\"Eccentricity\", y=\"Solidity\", data=dataset, hue=\"label\",\n",
    "           fit_reg=False, size=5.5, scatter_kws={\"s\": 80})\n",
    "\n",
    "x = np.arange(-3,3,0.1)\n",
    "y = -2*x+4\n",
    "\n",
    "plt.plot(x, y, color='yellow',linewidth=3)\n",
    "plt.scatter(-1,8,s=173,color='red')\n",
    "plt.show()"
   ]
  },
  {
   "cell_type": "markdown",
   "metadata": {},
   "source": [
    "To plot different columns on the same plot it is much more easy to use the plotting functions of the pandas package as the focus of pandas is on columns. For instance if we want to plot a boxplot for all the \"Eccentricity\" and \"Solidity\" feature in the melanoma data set we can simple do:"
   ]
  },
  {
   "cell_type": "code",
   "execution_count": 143,
   "metadata": {
    "collapsed": false
   },
   "outputs": [
    {
     "data": {
      "image/png": "[encoded data removed]",
      "text/plain": [
       "<matplotlib.figure.Figure at 0x7fb860767090>"
      ]
     },
     "metadata": {},
     "output_type": "display_data"
    }
   ],
   "source": [
    "dataset[[\"Eccentricity\",\"Solidity\"]].boxplot()\n",
    "plt.show()"
   ]
  },
  {
   "cell_type": "code",
   "execution_count": 144,
   "metadata": {
    "collapsed": false
   },
   "outputs": [
    {
     "data": {
      "image/png": "[encoded data removed]",
      "text/plain": [
       "<matplotlib.figure.Figure at 0x7fb86238a4d0>"
      ]
     },
     "metadata": {},
     "output_type": "display_data"
    }
   ],
   "source": [
    "dataset[[\"Eccentricity\",\"Solidity\"]].boxplot(vert=False)\n",
    "plt.show()"
   ]
  },
  {
   "cell_type": "code",
   "execution_count": null,
   "metadata": {
    "collapsed": true
   },
   "outputs": [],
   "source": []
  }
 ],
 "metadata": {
  "kernelspec": {
   "display_name": "Python 2",
   "language": "python",
   "name": "python2"
  },
  "language_info": {
   "codemirror_mode": {
    "name": "ipython",
    "version": 2
   },
   "file_extension": ".py",
   "mimetype": "text/x-python",
   "name": "python",
   "nbconvert_exporter": "python",
   "pygments_lexer": "ipython2",
   "version": "2.7.11"
  }
 },
 "nbformat": 4,
 "nbformat_minor": 0
}
